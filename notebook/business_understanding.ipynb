{
 "cells": [
  {
   "cell_type": "markdown",
   "metadata": {},
   "source": [
    "# 1. Business Issues"
   ]
  },
  {
   "cell_type": "markdown",
   "metadata": {},
   "source": [
    "From the data provided, we want you to answer, preferably with graphs, the following questions:\n",
    "1. What is the **lowest temperature** of each one of the Bouys? (Waves Dataset)\n",
    "    * a. Which usually month it occurs? \n",
    "2. Where (lat/long) do we have the **biggest water level**? (Tides Dataset)\n",
    "    * a. Which usually month it occurs?\n",
    "3. How the **Wave Lengths** correlates with **Sea Temperature?** (Waves Dataset)\n",
    "    * a. It is possible to predict with accuracy the Wave Length, based on the Sea Temperature and the Bouy location?\n",
    "\n",
    "Bonus item:\n",
    "\n",
    "1. Build a Time Series model that can predict the **sea temperature** throughout the **year**"
   ]
  },
  {
   "cell_type": "markdown",
   "metadata": {},
   "source": [
    "# 2. Solution Planning"
   ]
  },
  {
   "cell_type": "markdown",
   "metadata": {},
   "source": [
    "## 2.1 Input"
   ]
  },
  {
   "cell_type": "markdown",
   "metadata": {},
   "source": [
    "- Period planned: 2021-09-01 00:00:00 to 2022-08-31 23:59:00\n",
    "- Tide Dataset: 20 stations\n",
    "    * a. Water Level\n",
    "- Wave Dataset has 8 stations:\n",
    "    * a. Temperature\n",
    "    * b. Wave Lengths "
   ]
  },
  {
   "cell_type": "markdown",
   "metadata": {},
   "source": [
    "### 2.1.1 Wave Dataset"
   ]
  },
  {
   "cell_type": "markdown",
   "metadata": {},
   "source": [
    "| Station   | ID                        | Analyzed Period                                       | Information    |\n",
    "|-----------|---------------------------|-------------------------------------------------------|----------------| \n",
    "| 1 | AMETS Berth A Wave Buoy   | Start: 2021-09-01 00:22:00 - End: 2022-08-31 23:35:00 | Record every 30 minutes, doesn't have information about hmax, speed and direction|                         \n",
    "| 2 | AMETS Berth B Wave Buoy   | Start: 2021-09-01 00:02:00 - End: 2022-08-31 23:32:00 | Record every 30 minutes, doesn't have information about hmax, speed and direction|                              \n",
    "| 3 | Bantry Bay                | Start: 2021-09-01 00:00:00 - End: 2022-08-13 07:00:00 | Temperature information is recorded every 5 minutes, wave information every 30 minutes, doesn't have information about speed and direction.|                  \n",
    "| 4 | Brandon Bay               | Start: 2021-09-01 00:00:00 - End: 2022-03-04 05:30:00 | Temperature information is recorded every 5 minutes, wave information every 30 minutes, doesn't have information about speed and direction.|                  \n",
    "| 5 | Clew Bay                  | Start: 2021-10-30 00:03:00 - End: 2022-08-25 12:34:00 | Record every 30 minutes, doesn't have information about hmax, speed and direction|              \n",
    "| 6 | SmartBay Wave Buoy        | Start: 2021-09-01 00:00:00 - End: 2022-08-31 23:30:00 | Temperature information is recorded every 5 minutes, speed and direction information every 10 minutes and wave information every 30 minutes |        \n",
    "| 7 | AMETS Berth C Wave Buoy   | does not have information in the analyzed period      |                          \n",
    "| 8 | Westwave Wave Buoy        | does not have information in the analyzed period      |     "
   ]
  }
 ],
 "metadata": {
  "kernelspec": {
   "display_name": "Python 3.9.0 64-bit ('3.9.0')",
   "language": "python",
   "name": "python3"
  },
  "language_info": {
   "name": "python",
   "version": "3.9.0"
  },
  "orig_nbformat": 4,
  "vscode": {
   "interpreter": {
    "hash": "dd05c0ee2e48b9c6a23c57b1997294d4bb00b8473265b0ea2729ae776cd56f53"
   }
  }
 },
 "nbformat": 4,
 "nbformat_minor": 2
}
