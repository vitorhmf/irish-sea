{
 "cells": [
  {
   "cell_type": "markdown",
   "metadata": {},
   "source": [
    "# 1. Imports"
   ]
  },
  {
   "cell_type": "markdown",
   "metadata": {},
   "source": [
    "## 1.1 Libs"
   ]
  },
  {
   "cell_type": "code",
   "execution_count": 1,
   "metadata": {},
   "outputs": [],
   "source": [
    "import pickle\n",
    "import inflection\n",
    "import datetime\n",
    "import sqlite3\n",
    "\n",
    "import pandas               as pd\n",
    "import numpy                as np\n",
    "import seaborn              as sns\n",
    "import xgboost              as xgb\n",
    "\n",
    "from matplotlib             import pyplot                   as plt\n",
    "from sklearn                import ensemble                 as en\n",
    "from sklearn                import ensemble                 as en\n",
    "\n",
    "from boruta                 import BorutaPy\n",
    "from sqlalchemy             import create_engine\n",
    "from sklearn.ensemble       import RandomForestRegressor\n",
    "from sklearn.linear_model   import LinearRegression, Lasso\n",
    "from sklearn.preprocessing  import RobustScaler, MinMaxScaler, LabelEncoder\n",
    "from sklearn.metrics        import mean_absolute_error, mean_absolute_percentage_error, mean_squared_error\n"
   ]
  },
  {
   "cell_type": "markdown",
   "metadata": {},
   "source": [
    "## 1.2 Loding Data"
   ]
  },
  {
   "cell_type": "code",
   "execution_count": 59,
   "metadata": {},
   "outputs": [],
   "source": [
    "# Database Conection\n",
    "\n",
    "host = 'irish-sea-db.cyllx5pgzqdx.us-east-1.rds.amazonaws.com'\n",
    "port = '5432'\n",
    "database = 'postgres'\n",
    "user = 'postgres'\n",
    "pwd = 'dadosfera'\n",
    "\n",
    "endpoint_aws = f'postgresql://{user}:{pwd}@{host}/{database}'\n",
    "\n",
    "engine = create_engine(endpoint_aws)\n",
    "connection = engine.connect()\n",
    "\n",
    "# Consulting Database\n",
    "query = \"\"\" \n",
    "    SELECT * FROM wave\n",
    "\"\"\"\n",
    "\n",
    "df1 = pd.read_sql_query(query, engine)\n",
    "\n",
    "connection.close()"
   ]
  },
  {
   "cell_type": "markdown",
   "metadata": {},
   "source": [
    "## 1.3 Helper Function"
   ]
  },
  {
   "cell_type": "code",
   "execution_count": 3,
   "metadata": {},
   "outputs": [],
   "source": [
    "def cross_validation (x_training, kfold, model_name, model, verbose=False):\n",
    "\n",
    "    mae_list = []\n",
    "    mape_list = []\n",
    "    rsme_list = []\n",
    "\n",
    "    for k in reversed(range(1, kfold+1)):\n",
    "        if verbose:\n",
    "            print(f'KFold Number: {k}')\n",
    " \n",
    "        # start and end date for validation\n",
    "        validation_start_date = x_training['time'].max() - datetime.timedelta(days = k*3*30)\n",
    "        validation_end_date = x_training['time'].max() - datetime.timedelta(days = (k-1)*3*30)\n",
    "\n",
    "        # filtering dataset\n",
    "        training = x_training[ x_training['time'] < validation_start_date]\n",
    "        validation = x_training[(x_training['time'] >= validation_start_date) & (x_training['time'] <= validation_end_date)]\n",
    "\n",
    "        # training and validation dataset\n",
    "        xtraining = training.drop(['time', 'year_month', 'sea_temperature'], axis = 1)\n",
    "        ytraining = training['sea_temperature']\n",
    "\n",
    "        xvalidation = validation.drop(['time', 'year_month', 'sea_temperature'], axis=1)\n",
    "        yvalidation = validation['sea_temperature']\n",
    "\n",
    "        # model\n",
    "        m = model.fit(xtraining, ytraining)\n",
    "        # prediction\n",
    "        yhat = m.predict(xvalidation)\n",
    "        # performance\n",
    "        m_result = ml_error(model_name, yvalidation, yhat)\n",
    "        \n",
    "        #store performance of each kfold iteration\n",
    "        mae_list.append (m_result['MAE'])   \n",
    "        mape_list.append(m_result['MAPE'])\n",
    "        rsme_list.append(m_result['RSME'])\n",
    "\n",
    "    return pd.DataFrame({'Model Name': model_name,\n",
    "                         'MAE CV':  np.round( np.mean( mae_list ), 3).astype(str)  + ' +/- ' + np.round(np.std(mae_list), 3).astype(str),\n",
    "                         'MAPE CV': np.round( np.mean( mape_list ), 3).astype(str) + ' +/- ' + np.round(np.std(mape_list), 3).astype(str),\n",
    "                         'RSME CV': np.round( np.mean( rsme_list ), 3).astype(str) + ' +/- ' + np.round(np.std(rsme_list), 3).astype(str)}, index = [0])\n",
    "\n",
    "def numerical_metrics(numerical_attributes):\n",
    "    #ct = central tendency\n",
    "    ct_mean = pd.DataFrame(numerical_attributes.apply(np.mean)).T\n",
    "    ct_median = pd.DataFrame(numerical_attributes.apply(np.median)).T\n",
    "\n",
    "    #d = dispersion\n",
    "    d_std = pd.DataFrame(numerical_attributes.apply(np.std)).T\n",
    "    d_min = pd.DataFrame(numerical_attributes.apply(min)).T\n",
    "    d_max = pd.DataFrame(numerical_attributes.apply(max)).T\n",
    "    d_range = pd.DataFrame(numerical_attributes.apply(lambda x: x.max() - x.min())).T\n",
    "    d_skew = pd.DataFrame(numerical_attributes.apply(lambda x: x.skew())).T\n",
    "    d_kurtosis = pd.DataFrame(numerical_attributes.apply(lambda x: x.kurtosis())).T\n",
    "\n",
    "    concat = pd.concat([d_min,d_max,d_range,ct_mean,ct_median,d_std,d_skew,d_kurtosis]).T.reset_index()\n",
    "    concat.columns=['Attributes','Min','Max','Range','Mean','Median','STD','Skew','Kurtosis']\n",
    "\n",
    "    return concat\n",
    "\n",
    "def ml_error (model_name, y, yhat): \n",
    "    mae  = mean_absolute_error (y, yhat)\n",
    "    mape = mean_absolute_percentage_error (y, yhat)\n",
    "    rsme = np.sqrt(mean_squared_error (y, yhat))\n",
    "\n",
    "    return pd.DataFrame({'Model Name': model_name,\n",
    "                        'MAE': mae,\n",
    "                        'MAPE': mape,\n",
    "                        'RSME': rsme}, index=[0]) "
   ]
  },
  {
   "cell_type": "markdown",
   "metadata": {},
   "source": [
    "# 2. Data Understanding"
   ]
  },
  {
   "cell_type": "markdown",
   "metadata": {},
   "source": [
    "## 2.1 Overview"
   ]
  },
  {
   "cell_type": "markdown",
   "metadata": {},
   "source": [
    "### 2.1.1 Basic Data Structure"
   ]
  },
  {
   "cell_type": "code",
   "execution_count": 60,
   "metadata": {},
   "outputs": [],
   "source": [
    "df2 = df1.copy()"
   ]
  },
  {
   "cell_type": "code",
   "execution_count": 61,
   "metadata": {},
   "outputs": [
    {
     "data": {
      "text/html": [
       "<div>\n",
       "<style scoped>\n",
       "    .dataframe tbody tr th:only-of-type {\n",
       "        vertical-align: middle;\n",
       "    }\n",
       "\n",
       "    .dataframe tbody tr th {\n",
       "        vertical-align: top;\n",
       "    }\n",
       "\n",
       "    .dataframe thead th {\n",
       "        text-align: right;\n",
       "    }\n",
       "</style>\n",
       "<table border=\"1\" class=\"dataframe\">\n",
       "  <thead>\n",
       "    <tr style=\"text-align: right;\">\n",
       "      <th></th>\n",
       "      <th>longitude</th>\n",
       "      <th>latitude</th>\n",
       "      <th>time</th>\n",
       "      <th>station_id</th>\n",
       "      <th>PeakPeriod</th>\n",
       "      <th>PeakDirection</th>\n",
       "      <th>UpcrossPeriod</th>\n",
       "      <th>SignificantWaveHeight</th>\n",
       "      <th>Hmax</th>\n",
       "      <th>SeaTemperature</th>\n",
       "      <th>MeanCurSpeed</th>\n",
       "      <th>MeanCurDirTo</th>\n",
       "    </tr>\n",
       "  </thead>\n",
       "  <tbody>\n",
       "    <tr>\n",
       "      <th>0</th>\n",
       "      <td>degrees_east</td>\n",
       "      <td>degrees_north</td>\n",
       "      <td>UTC</td>\n",
       "      <td>None</td>\n",
       "      <td>s</td>\n",
       "      <td>degrees_true</td>\n",
       "      <td>s</td>\n",
       "      <td>cm</td>\n",
       "      <td>cm</td>\n",
       "      <td>degree_C</td>\n",
       "      <td>m/s</td>\n",
       "      <td>degrees_true</td>\n",
       "    </tr>\n",
       "    <tr>\n",
       "      <th>1</th>\n",
       "      <td>-10.29737</td>\n",
       "      <td>54.2753</td>\n",
       "      <td>2021-09-01T00:22:00Z</td>\n",
       "      <td>AMETS Berth A Wave Buoy</td>\n",
       "      <td>4.76</td>\n",
       "      <td>30.9</td>\n",
       "      <td>4.04</td>\n",
       "      <td>87.0</td>\n",
       "      <td>None</td>\n",
       "      <td>15.7</td>\n",
       "      <td>None</td>\n",
       "      <td>None</td>\n",
       "    </tr>\n",
       "    <tr>\n",
       "      <th>2</th>\n",
       "      <td>-10.29737</td>\n",
       "      <td>54.2753</td>\n",
       "      <td>2021-09-01T00:52:00Z</td>\n",
       "      <td>AMETS Berth A Wave Buoy</td>\n",
       "      <td>4.35</td>\n",
       "      <td>35.2</td>\n",
       "      <td>3.846</td>\n",
       "      <td>84.0</td>\n",
       "      <td>None</td>\n",
       "      <td>15.55</td>\n",
       "      <td>None</td>\n",
       "      <td>None</td>\n",
       "    </tr>\n",
       "    <tr>\n",
       "      <th>3</th>\n",
       "      <td>-10.29737</td>\n",
       "      <td>54.2753</td>\n",
       "      <td>2021-09-01T01:22:00Z</td>\n",
       "      <td>AMETS Berth A Wave Buoy</td>\n",
       "      <td>4.55</td>\n",
       "      <td>30.9</td>\n",
       "      <td>3.922</td>\n",
       "      <td>86.0</td>\n",
       "      <td>None</td>\n",
       "      <td>15.35</td>\n",
       "      <td>None</td>\n",
       "      <td>None</td>\n",
       "    </tr>\n",
       "    <tr>\n",
       "      <th>4</th>\n",
       "      <td>-10.29737</td>\n",
       "      <td>54.2753</td>\n",
       "      <td>2021-09-01T01:52:00Z</td>\n",
       "      <td>AMETS Berth A Wave Buoy</td>\n",
       "      <td>4.35</td>\n",
       "      <td>30.9</td>\n",
       "      <td>3.883</td>\n",
       "      <td>81.0</td>\n",
       "      <td>None</td>\n",
       "      <td>15.4</td>\n",
       "      <td>None</td>\n",
       "      <td>None</td>\n",
       "    </tr>\n",
       "  </tbody>\n",
       "</table>\n",
       "</div>"
      ],
      "text/plain": [
       "      longitude       latitude                  time               station_id  \\\n",
       "0  degrees_east  degrees_north                   UTC                     None   \n",
       "1     -10.29737        54.2753  2021-09-01T00:22:00Z  AMETS Berth A Wave Buoy   \n",
       "2     -10.29737        54.2753  2021-09-01T00:52:00Z  AMETS Berth A Wave Buoy   \n",
       "3     -10.29737        54.2753  2021-09-01T01:22:00Z  AMETS Berth A Wave Buoy   \n",
       "4     -10.29737        54.2753  2021-09-01T01:52:00Z  AMETS Berth A Wave Buoy   \n",
       "\n",
       "  PeakPeriod PeakDirection UpcrossPeriod SignificantWaveHeight  Hmax  \\\n",
       "0          s  degrees_true             s                    cm    cm   \n",
       "1       4.76          30.9          4.04                  87.0  None   \n",
       "2       4.35          35.2         3.846                  84.0  None   \n",
       "3       4.55          30.9         3.922                  86.0  None   \n",
       "4       4.35          30.9         3.883                  81.0  None   \n",
       "\n",
       "  SeaTemperature MeanCurSpeed  MeanCurDirTo  \n",
       "0       degree_C          m/s  degrees_true  \n",
       "1           15.7         None          None  \n",
       "2          15.55         None          None  \n",
       "3          15.35         None          None  \n",
       "4           15.4         None          None  "
      ]
     },
     "execution_count": 61,
     "metadata": {},
     "output_type": "execute_result"
    }
   ],
   "source": [
    "df2.head()"
   ]
  },
  {
   "cell_type": "code",
   "execution_count": 62,
   "metadata": {},
   "outputs": [],
   "source": [
    "# Remove the header of dataset\n",
    "df2 = df2[~df2['time'].str.contains('UTC', na=False)]"
   ]
  },
  {
   "cell_type": "code",
   "execution_count": 63,
   "metadata": {},
   "outputs": [
    {
     "name": "stdout",
     "output_type": "stream",
     "text": [
      "Number of Rows:258391\n",
      "Number of Columns:12\n"
     ]
    }
   ],
   "source": [
    "print(f'Number of Rows:{df2.shape[0]}')\n",
    "print(f'Number of Columns:{df2.shape[1]}')"
   ]
  },
  {
   "cell_type": "code",
   "execution_count": 8,
   "metadata": {},
   "outputs": [
    {
     "data": {
      "text/plain": [
       "longitude                object\n",
       "latitude                 object\n",
       "time                     object\n",
       "station_id               object\n",
       "PeakPeriod               object\n",
       "PeakDirection            object\n",
       "UpcrossPeriod            object\n",
       "SignificantWaveHeight    object\n",
       "Hmax                     object\n",
       "SeaTemperature           object\n",
       "MeanCurSpeed             object\n",
       "MeanCurDirTo             object\n",
       "dtype: object"
      ]
     },
     "execution_count": 8,
     "metadata": {},
     "output_type": "execute_result"
    }
   ],
   "source": [
    "df2.dtypes"
   ]
  },
  {
   "cell_type": "markdown",
   "metadata": {},
   "source": [
    "### 2.1.1 Features Definition"
   ]
  },
  {
   "cell_type": "markdown",
   "metadata": {},
   "source": [
    "| Feature                    | Definition\n",
    "|----------------------------|---------------------------------------------------------------|\n",
    "| longitude                  | Geolocation                                                   |                                                                   \n",
    "| latitude                   | Geolocation                                                   |       \n",
    "| time                       | Datetime when the row was registred                           |                               \n",
    "| station_id                 | Station Name                                                  |       \n",
    "| peak_period                | Time (in seconds) that the wave remained at the peak          |                                               \n",
    "| peak_direction             | object                                                        |   \n",
    "| upcross_period             | Time (in seconds)                                             |               \n",
    "| significant_wave_height    | Wave Height (in cm)                                           |               \n",
    "| hmax                       | Height máx (in cm)                                            |               \n",
    "| sea_temperature            | Temperature em celcius degree                                 |                           \n",
    "| mean_cur_speed             | Wave Speed (in m/s)                                           |               \n",
    "| mean_cur_dir_to            | object                                                        |   "
   ]
  },
  {
   "cell_type": "markdown",
   "metadata": {},
   "source": [
    "### 2.1.2 Data Summary"
   ]
  },
  {
   "cell_type": "markdown",
   "metadata": {},
   "source": [
    "| Station   | ID                        | Analyzed Period                                       | Information    |\n",
    "|-----------|---------------------------|-------------------------------------------------------|----------------| \n",
    "| 1 | AMETS Berth A Wave Buoy   | Start: 2021-09-01 00:22:00 - End: 2022-08-31 23:35:00 | Record every 30 minutes, doesn't have information about hmax, mean_cur_speed and mean_cur_dir_to|                         \n",
    "| 2 | AMETS Berth B Wave Buoy   | Start: 2021-09-01 00:02:00 - End: 2022-08-31 23:32:00 | Record every 30 minutes, doesn't have information about hmax, mean_cur_speed and mean_cur_dir_to|                              \n",
    "| 3 | Bantry Bay                | Start: 2021-09-01 00:00:00 - End: 2022-08-13 07:00:00 | Temperature information is recorded every 5 minutes, wave information every 30 minutes, doesn't have information about speed and direction.|                  \n",
    "| 4 | Brandon Bay               | Start: 2021-09-01 00:00:00 - End: 2022-03-04 05:30:00 | Temperature information is recorded every 5 minutes, wave information every 30 minutes, doesn't have information about speed and direction.|                  \n",
    "| 5 | Clew Bay                  | Start: 2021-10-30 00:03:00 - End: 2022-08-25 12:34:00 | Record every 30 minutes, doesn't have information about hmax, mean_cur_speed and mean_cur_dir_to|              \n",
    "| 6 | SmartBay Wave Buoy        | Start: 2021-09-01 00:00:00 - End: 2022-08-31 23:30:00 | Temperature information is recorded every 5 minutes, speed and direction information every 10 minutes and wave information every 30 minutes |        \n",
    "| 7 | AMETS Berth C Wave Buoy   | does not have information in the analyzed period      |                          \n",
    "| 8 | Westwave Wave Buoy        | does not have information in the analyzed period      |   "
   ]
  },
  {
   "cell_type": "markdown",
   "metadata": {},
   "source": [
    "## 2.2 Rename Columns"
   ]
  },
  {
   "cell_type": "code",
   "execution_count": 9,
   "metadata": {},
   "outputs": [
    {
     "data": {
      "text/plain": [
       "Index(['longitude', 'latitude', 'time', 'station_id', 'PeakPeriod',\n",
       "       'PeakDirection', 'UpcrossPeriod', 'SignificantWaveHeight', 'Hmax',\n",
       "       'SeaTemperature', 'MeanCurSpeed', 'MeanCurDirTo'],\n",
       "      dtype='object')"
      ]
     },
     "execution_count": 9,
     "metadata": {},
     "output_type": "execute_result"
    }
   ],
   "source": [
    "df2.columns"
   ]
  },
  {
   "cell_type": "code",
   "execution_count": 10,
   "metadata": {},
   "outputs": [
    {
     "data": {
      "text/html": [
       "<div>\n",
       "<style scoped>\n",
       "    .dataframe tbody tr th:only-of-type {\n",
       "        vertical-align: middle;\n",
       "    }\n",
       "\n",
       "    .dataframe tbody tr th {\n",
       "        vertical-align: top;\n",
       "    }\n",
       "\n",
       "    .dataframe thead th {\n",
       "        text-align: right;\n",
       "    }\n",
       "</style>\n",
       "<table border=\"1\" class=\"dataframe\">\n",
       "  <thead>\n",
       "    <tr style=\"text-align: right;\">\n",
       "      <th></th>\n",
       "      <th>longitude</th>\n",
       "      <th>latitude</th>\n",
       "      <th>time</th>\n",
       "      <th>station_id</th>\n",
       "      <th>peak_period</th>\n",
       "      <th>peak_direction</th>\n",
       "      <th>upcross_period</th>\n",
       "      <th>significant_wave_height</th>\n",
       "      <th>hmax</th>\n",
       "      <th>sea_temperature</th>\n",
       "      <th>mean_cur_speed</th>\n",
       "      <th>mean_cur_dir_to</th>\n",
       "    </tr>\n",
       "  </thead>\n",
       "  <tbody>\n",
       "    <tr>\n",
       "      <th>1</th>\n",
       "      <td>-10.29737</td>\n",
       "      <td>54.2753</td>\n",
       "      <td>2021-09-01T00:22:00Z</td>\n",
       "      <td>AMETS Berth A Wave Buoy</td>\n",
       "      <td>4.76</td>\n",
       "      <td>30.9</td>\n",
       "      <td>4.04</td>\n",
       "      <td>87.0</td>\n",
       "      <td>None</td>\n",
       "      <td>15.7</td>\n",
       "      <td>None</td>\n",
       "      <td>None</td>\n",
       "    </tr>\n",
       "    <tr>\n",
       "      <th>2</th>\n",
       "      <td>-10.29737</td>\n",
       "      <td>54.2753</td>\n",
       "      <td>2021-09-01T00:52:00Z</td>\n",
       "      <td>AMETS Berth A Wave Buoy</td>\n",
       "      <td>4.35</td>\n",
       "      <td>35.2</td>\n",
       "      <td>3.846</td>\n",
       "      <td>84.0</td>\n",
       "      <td>None</td>\n",
       "      <td>15.55</td>\n",
       "      <td>None</td>\n",
       "      <td>None</td>\n",
       "    </tr>\n",
       "    <tr>\n",
       "      <th>3</th>\n",
       "      <td>-10.29737</td>\n",
       "      <td>54.2753</td>\n",
       "      <td>2021-09-01T01:22:00Z</td>\n",
       "      <td>AMETS Berth A Wave Buoy</td>\n",
       "      <td>4.55</td>\n",
       "      <td>30.9</td>\n",
       "      <td>3.922</td>\n",
       "      <td>86.0</td>\n",
       "      <td>None</td>\n",
       "      <td>15.35</td>\n",
       "      <td>None</td>\n",
       "      <td>None</td>\n",
       "    </tr>\n",
       "    <tr>\n",
       "      <th>4</th>\n",
       "      <td>-10.29737</td>\n",
       "      <td>54.2753</td>\n",
       "      <td>2021-09-01T01:52:00Z</td>\n",
       "      <td>AMETS Berth A Wave Buoy</td>\n",
       "      <td>4.35</td>\n",
       "      <td>30.9</td>\n",
       "      <td>3.883</td>\n",
       "      <td>81.0</td>\n",
       "      <td>None</td>\n",
       "      <td>15.4</td>\n",
       "      <td>None</td>\n",
       "      <td>None</td>\n",
       "    </tr>\n",
       "    <tr>\n",
       "      <th>5</th>\n",
       "      <td>-10.29737</td>\n",
       "      <td>54.2753</td>\n",
       "      <td>2021-09-01T02:22:00Z</td>\n",
       "      <td>AMETS Berth A Wave Buoy</td>\n",
       "      <td>5.26</td>\n",
       "      <td>21.1</td>\n",
       "      <td>3.883</td>\n",
       "      <td>79.0</td>\n",
       "      <td>None</td>\n",
       "      <td>15.35</td>\n",
       "      <td>None</td>\n",
       "      <td>None</td>\n",
       "    </tr>\n",
       "  </tbody>\n",
       "</table>\n",
       "</div>"
      ],
      "text/plain": [
       "   longitude latitude                  time               station_id  \\\n",
       "1  -10.29737  54.2753  2021-09-01T00:22:00Z  AMETS Berth A Wave Buoy   \n",
       "2  -10.29737  54.2753  2021-09-01T00:52:00Z  AMETS Berth A Wave Buoy   \n",
       "3  -10.29737  54.2753  2021-09-01T01:22:00Z  AMETS Berth A Wave Buoy   \n",
       "4  -10.29737  54.2753  2021-09-01T01:52:00Z  AMETS Berth A Wave Buoy   \n",
       "5  -10.29737  54.2753  2021-09-01T02:22:00Z  AMETS Berth A Wave Buoy   \n",
       "\n",
       "  peak_period peak_direction upcross_period significant_wave_height  hmax  \\\n",
       "1        4.76           30.9           4.04                    87.0  None   \n",
       "2        4.35           35.2          3.846                    84.0  None   \n",
       "3        4.55           30.9          3.922                    86.0  None   \n",
       "4        4.35           30.9          3.883                    81.0  None   \n",
       "5        5.26           21.1          3.883                    79.0  None   \n",
       "\n",
       "  sea_temperature mean_cur_speed mean_cur_dir_to  \n",
       "1            15.7           None            None  \n",
       "2           15.55           None            None  \n",
       "3           15.35           None            None  \n",
       "4            15.4           None            None  \n",
       "5           15.35           None            None  "
      ]
     },
     "execution_count": 10,
     "metadata": {},
     "output_type": "execute_result"
    }
   ],
   "source": [
    "cols_old = ['longitude', 'latitude', 'time', 'station_id', 'PeakPeriod',\n",
    "       'PeakDirection', 'UpcrossPeriod', 'SignificantWaveHeight', 'Hmax',\n",
    "       'SeaTemperature', 'MeanCurSpeed', 'MeanCurDirTo']\n",
    "\n",
    "snakecase = lambda x: inflection.underscore(x)\n",
    "\n",
    "cols_new = list( map(snakecase, cols_old))\n",
    "\n",
    "df2.columns = cols_new\n",
    "\n",
    "df2.head()"
   ]
  },
  {
   "cell_type": "markdown",
   "metadata": {},
   "source": [
    "## 2.3 Check and Fillout NA"
   ]
  },
  {
   "cell_type": "code",
   "execution_count": 11,
   "metadata": {},
   "outputs": [],
   "source": [
    "df3 = df2.copy()"
   ]
  },
  {
   "cell_type": "code",
   "execution_count": 12,
   "metadata": {},
   "outputs": [
    {
     "data": {
      "text/plain": [
       "longitude                       0\n",
       "latitude                        0\n",
       "time                            0\n",
       "station_id                      0\n",
       "peak_period                179101\n",
       "peak_direction             179101\n",
       "upcross_period             179101\n",
       "significant_wave_height    179101\n",
       "hmax                       222608\n",
       "sea_temperature                 0\n",
       "mean_cur_speed             206365\n",
       "mean_cur_dir_to            206368\n",
       "dtype: int64"
      ]
     },
     "execution_count": 12,
     "metadata": {},
     "output_type": "execute_result"
    }
   ],
   "source": [
    "df3.isna().sum()"
   ]
  },
  {
   "cell_type": "code",
   "execution_count": 13,
   "metadata": {},
   "outputs": [],
   "source": [
    "# 3 stations doesn't have information about hmax, mean_cur_speed and mean_cur_dir_to. So this columns will be droped.\n",
    "df3 = df3.drop(columns = ['hmax', 'mean_cur_speed', 'mean_cur_dir_to'], axis=1)\n"
   ]
  },
  {
   "cell_type": "code",
   "execution_count": 14,
   "metadata": {},
   "outputs": [],
   "source": [
    "# Now, the missing values originate from the difference in the recording interval.\n",
    "# The temperature is recorded every 5 minutes and the other values are recorded every 30 minutes.\n",
    "df3 = df3.dropna()"
   ]
  },
  {
   "cell_type": "code",
   "execution_count": 15,
   "metadata": {},
   "outputs": [
    {
     "data": {
      "text/plain": [
       "longitude                  0\n",
       "latitude                   0\n",
       "time                       0\n",
       "station_id                 0\n",
       "peak_period                0\n",
       "peak_direction             0\n",
       "upcross_period             0\n",
       "significant_wave_height    0\n",
       "sea_temperature            0\n",
       "dtype: int64"
      ]
     },
     "execution_count": 15,
     "metadata": {},
     "output_type": "execute_result"
    }
   ],
   "source": [
    "df3.isna().sum()"
   ]
  },
  {
   "cell_type": "markdown",
   "metadata": {},
   "source": [
    "## 2.4 Change Types"
   ]
  },
  {
   "cell_type": "code",
   "execution_count": 16,
   "metadata": {},
   "outputs": [
    {
     "data": {
      "text/plain": [
       "longitude                  object\n",
       "latitude                   object\n",
       "time                       object\n",
       "station_id                 object\n",
       "peak_period                object\n",
       "peak_direction             object\n",
       "upcross_period             object\n",
       "significant_wave_height    object\n",
       "sea_temperature            object\n",
       "dtype: object"
      ]
     },
     "execution_count": 16,
     "metadata": {},
     "output_type": "execute_result"
    }
   ],
   "source": [
    "df3.dtypes"
   ]
  },
  {
   "cell_type": "code",
   "execution_count": 17,
   "metadata": {},
   "outputs": [],
   "source": [
    "# Longitude\n",
    "df3['longitude'] = df3['longitude'].astype(float)\n",
    "\n",
    "# Latitude\n",
    "df3['latitude'] = df3['latitude'].astype(float)\n",
    "\n",
    "# Time\n",
    "df3['time'] = pd.to_datetime(df3['time']).dt.tz_localize(None)\n",
    "\n",
    "# peak_period\n",
    "df3['peak_period'] = df3['peak_period'].astype(float)\n",
    "\n",
    "# peak_direction\n",
    "df3['peak_direction'] = df3['peak_direction'].astype(float)\n",
    "\n",
    "# upcross_period\n",
    "df3['upcross_period'] = df3['upcross_period'].astype(float)\n",
    "\n",
    "# significant_wave_height\n",
    "df3['significant_wave_height'] = df3['significant_wave_height'].astype(float)\n",
    "\n",
    "# sea_temperature\n",
    "df3['sea_temperature'] = df3['sea_temperature'].astype(float)"
   ]
  },
  {
   "cell_type": "code",
   "execution_count": 18,
   "metadata": {},
   "outputs": [
    {
     "data": {
      "text/plain": [
       "longitude                         float64\n",
       "latitude                          float64\n",
       "time                       datetime64[ns]\n",
       "station_id                         object\n",
       "peak_period                       float64\n",
       "peak_direction                    float64\n",
       "upcross_period                    float64\n",
       "significant_wave_height           float64\n",
       "sea_temperature                   float64\n",
       "dtype: object"
      ]
     },
     "execution_count": 18,
     "metadata": {},
     "output_type": "execute_result"
    }
   ],
   "source": [
    "df3.dtypes"
   ]
  },
  {
   "cell_type": "code",
   "execution_count": 19,
   "metadata": {},
   "outputs": [
    {
     "data": {
      "text/html": [
       "<div>\n",
       "<style scoped>\n",
       "    .dataframe tbody tr th:only-of-type {\n",
       "        vertical-align: middle;\n",
       "    }\n",
       "\n",
       "    .dataframe tbody tr th {\n",
       "        vertical-align: top;\n",
       "    }\n",
       "\n",
       "    .dataframe thead th {\n",
       "        text-align: right;\n",
       "    }\n",
       "</style>\n",
       "<table border=\"1\" class=\"dataframe\">\n",
       "  <thead>\n",
       "    <tr style=\"text-align: right;\">\n",
       "      <th></th>\n",
       "      <th>longitude</th>\n",
       "      <th>latitude</th>\n",
       "      <th>time</th>\n",
       "      <th>station_id</th>\n",
       "      <th>peak_period</th>\n",
       "      <th>peak_direction</th>\n",
       "      <th>upcross_period</th>\n",
       "      <th>significant_wave_height</th>\n",
       "      <th>sea_temperature</th>\n",
       "    </tr>\n",
       "  </thead>\n",
       "  <tbody>\n",
       "    <tr>\n",
       "      <th>1</th>\n",
       "      <td>-10.29737</td>\n",
       "      <td>54.2753</td>\n",
       "      <td>2021-09-01 00:22:00</td>\n",
       "      <td>AMETS Berth A Wave Buoy</td>\n",
       "      <td>4.76</td>\n",
       "      <td>30.9</td>\n",
       "      <td>4.040</td>\n",
       "      <td>87.0</td>\n",
       "      <td>15.70</td>\n",
       "    </tr>\n",
       "    <tr>\n",
       "      <th>2</th>\n",
       "      <td>-10.29737</td>\n",
       "      <td>54.2753</td>\n",
       "      <td>2021-09-01 00:52:00</td>\n",
       "      <td>AMETS Berth A Wave Buoy</td>\n",
       "      <td>4.35</td>\n",
       "      <td>35.2</td>\n",
       "      <td>3.846</td>\n",
       "      <td>84.0</td>\n",
       "      <td>15.55</td>\n",
       "    </tr>\n",
       "    <tr>\n",
       "      <th>3</th>\n",
       "      <td>-10.29737</td>\n",
       "      <td>54.2753</td>\n",
       "      <td>2021-09-01 01:22:00</td>\n",
       "      <td>AMETS Berth A Wave Buoy</td>\n",
       "      <td>4.55</td>\n",
       "      <td>30.9</td>\n",
       "      <td>3.922</td>\n",
       "      <td>86.0</td>\n",
       "      <td>15.35</td>\n",
       "    </tr>\n",
       "    <tr>\n",
       "      <th>4</th>\n",
       "      <td>-10.29737</td>\n",
       "      <td>54.2753</td>\n",
       "      <td>2021-09-01 01:52:00</td>\n",
       "      <td>AMETS Berth A Wave Buoy</td>\n",
       "      <td>4.35</td>\n",
       "      <td>30.9</td>\n",
       "      <td>3.883</td>\n",
       "      <td>81.0</td>\n",
       "      <td>15.40</td>\n",
       "    </tr>\n",
       "    <tr>\n",
       "      <th>5</th>\n",
       "      <td>-10.29737</td>\n",
       "      <td>54.2753</td>\n",
       "      <td>2021-09-01 02:22:00</td>\n",
       "      <td>AMETS Berth A Wave Buoy</td>\n",
       "      <td>5.26</td>\n",
       "      <td>21.1</td>\n",
       "      <td>3.883</td>\n",
       "      <td>79.0</td>\n",
       "      <td>15.35</td>\n",
       "    </tr>\n",
       "  </tbody>\n",
       "</table>\n",
       "</div>"
      ],
      "text/plain": [
       "   longitude  latitude                time               station_id  \\\n",
       "1  -10.29737   54.2753 2021-09-01 00:22:00  AMETS Berth A Wave Buoy   \n",
       "2  -10.29737   54.2753 2021-09-01 00:52:00  AMETS Berth A Wave Buoy   \n",
       "3  -10.29737   54.2753 2021-09-01 01:22:00  AMETS Berth A Wave Buoy   \n",
       "4  -10.29737   54.2753 2021-09-01 01:52:00  AMETS Berth A Wave Buoy   \n",
       "5  -10.29737   54.2753 2021-09-01 02:22:00  AMETS Berth A Wave Buoy   \n",
       "\n",
       "   peak_period  peak_direction  upcross_period  significant_wave_height  \\\n",
       "1         4.76            30.9           4.040                     87.0   \n",
       "2         4.35            35.2           3.846                     84.0   \n",
       "3         4.55            30.9           3.922                     86.0   \n",
       "4         4.35            30.9           3.883                     81.0   \n",
       "5         5.26            21.1           3.883                     79.0   \n",
       "\n",
       "   sea_temperature  \n",
       "1            15.70  \n",
       "2            15.55  \n",
       "3            15.35  \n",
       "4            15.40  \n",
       "5            15.35  "
      ]
     },
     "execution_count": 19,
     "metadata": {},
     "output_type": "execute_result"
    }
   ],
   "source": [
    "df3.head()"
   ]
  },
  {
   "cell_type": "markdown",
   "metadata": {},
   "source": [
    "## 2.5 Basic Analysis"
   ]
  },
  {
   "cell_type": "code",
   "execution_count": 20,
   "metadata": {},
   "outputs": [],
   "source": [
    "num_attributes = df3.select_dtypes(include = ['float64'])\n",
    "cat_attributes = df3['station_id']"
   ]
  },
  {
   "cell_type": "code",
   "execution_count": 21,
   "metadata": {},
   "outputs": [
    {
     "data": {
      "text/html": [
       "<div>\n",
       "<style scoped>\n",
       "    .dataframe tbody tr th:only-of-type {\n",
       "        vertical-align: middle;\n",
       "    }\n",
       "\n",
       "    .dataframe tbody tr th {\n",
       "        vertical-align: top;\n",
       "    }\n",
       "\n",
       "    .dataframe thead th {\n",
       "        text-align: right;\n",
       "    }\n",
       "</style>\n",
       "<table border=\"1\" class=\"dataframe\">\n",
       "  <thead>\n",
       "    <tr style=\"text-align: right;\">\n",
       "      <th></th>\n",
       "      <th>Attributes</th>\n",
       "      <th>Min</th>\n",
       "      <th>Max</th>\n",
       "      <th>Range</th>\n",
       "      <th>Mean</th>\n",
       "      <th>Median</th>\n",
       "      <th>STD</th>\n",
       "      <th>Skew</th>\n",
       "      <th>Kurtosis</th>\n",
       "    </tr>\n",
       "  </thead>\n",
       "  <tbody>\n",
       "    <tr>\n",
       "      <th>0</th>\n",
       "      <td>longitude</td>\n",
       "      <td>-10.29737</td>\n",
       "      <td>-9.262278</td>\n",
       "      <td>1.035092</td>\n",
       "      <td>-9.919792</td>\n",
       "      <td>-10.094833</td>\n",
       "      <td>0.346550</td>\n",
       "      <td>0.723106</td>\n",
       "      <td>-0.697389</td>\n",
       "    </tr>\n",
       "    <tr>\n",
       "      <th>1</th>\n",
       "      <td>latitude</td>\n",
       "      <td>51.64700</td>\n",
       "      <td>54.275300</td>\n",
       "      <td>2.628300</td>\n",
       "      <td>53.315899</td>\n",
       "      <td>53.801353</td>\n",
       "      <td>1.039152</td>\n",
       "      <td>-0.624912</td>\n",
       "      <td>-1.251677</td>\n",
       "    </tr>\n",
       "    <tr>\n",
       "      <th>2</th>\n",
       "      <td>peak_period</td>\n",
       "      <td>1.22000</td>\n",
       "      <td>25.000000</td>\n",
       "      <td>23.780000</td>\n",
       "      <td>10.238369</td>\n",
       "      <td>10.530000</td>\n",
       "      <td>3.273400</td>\n",
       "      <td>-0.065485</td>\n",
       "      <td>0.366812</td>\n",
       "    </tr>\n",
       "    <tr>\n",
       "      <th>3</th>\n",
       "      <td>peak_direction</td>\n",
       "      <td>0.00000</td>\n",
       "      <td>359.648350</td>\n",
       "      <td>359.648350</td>\n",
       "      <td>267.896858</td>\n",
       "      <td>270.000000</td>\n",
       "      <td>55.433909</td>\n",
       "      <td>-2.463418</td>\n",
       "      <td>9.191607</td>\n",
       "    </tr>\n",
       "    <tr>\n",
       "      <th>4</th>\n",
       "      <td>upcross_period</td>\n",
       "      <td>1.40000</td>\n",
       "      <td>21.970000</td>\n",
       "      <td>20.570000</td>\n",
       "      <td>5.730494</td>\n",
       "      <td>5.634000</td>\n",
       "      <td>1.909862</td>\n",
       "      <td>0.315567</td>\n",
       "      <td>-0.235207</td>\n",
       "    </tr>\n",
       "    <tr>\n",
       "      <th>5</th>\n",
       "      <td>significant_wave_height</td>\n",
       "      <td>0.00000</td>\n",
       "      <td>1819.000000</td>\n",
       "      <td>1819.000000</td>\n",
       "      <td>182.041544</td>\n",
       "      <td>136.000000</td>\n",
       "      <td>161.609821</td>\n",
       "      <td>1.824256</td>\n",
       "      <td>4.867176</td>\n",
       "    </tr>\n",
       "    <tr>\n",
       "      <th>6</th>\n",
       "      <td>sea_temperature</td>\n",
       "      <td>4.51000</td>\n",
       "      <td>22.180000</td>\n",
       "      <td>17.670000</td>\n",
       "      <td>12.221870</td>\n",
       "      <td>11.980000</td>\n",
       "      <td>2.866691</td>\n",
       "      <td>0.394508</td>\n",
       "      <td>-0.827606</td>\n",
       "    </tr>\n",
       "  </tbody>\n",
       "</table>\n",
       "</div>"
      ],
      "text/plain": [
       "                Attributes       Min          Max        Range        Mean  \\\n",
       "0                longitude -10.29737    -9.262278     1.035092   -9.919792   \n",
       "1                 latitude  51.64700    54.275300     2.628300   53.315899   \n",
       "2              peak_period   1.22000    25.000000    23.780000   10.238369   \n",
       "3           peak_direction   0.00000   359.648350   359.648350  267.896858   \n",
       "4           upcross_period   1.40000    21.970000    20.570000    5.730494   \n",
       "5  significant_wave_height   0.00000  1819.000000  1819.000000  182.041544   \n",
       "6          sea_temperature   4.51000    22.180000    17.670000   12.221870   \n",
       "\n",
       "       Median         STD      Skew  Kurtosis  \n",
       "0  -10.094833    0.346550  0.723106 -0.697389  \n",
       "1   53.801353    1.039152 -0.624912 -1.251677  \n",
       "2   10.530000    3.273400 -0.065485  0.366812  \n",
       "3  270.000000   55.433909 -2.463418  9.191607  \n",
       "4    5.634000    1.909862  0.315567 -0.235207  \n",
       "5  136.000000  161.609821  1.824256  4.867176  \n",
       "6   11.980000    2.866691  0.394508 -0.827606  "
      ]
     },
     "execution_count": 21,
     "metadata": {},
     "output_type": "execute_result"
    }
   ],
   "source": [
    "# Numerical Attributes\n",
    "numerical_metrics(num_attributes)"
   ]
  },
  {
   "cell_type": "code",
   "execution_count": 22,
   "metadata": {},
   "outputs": [
    {
     "data": {
      "text/plain": [
       "count                       79290\n",
       "unique                          6\n",
       "top       AMETS Berth B Wave Buoy\n",
       "freq                        17049\n",
       "Name: station_id, dtype: object"
      ]
     },
     "execution_count": 22,
     "metadata": {},
     "output_type": "execute_result"
    }
   ],
   "source": [
    "# Categorial attributes\n",
    "cat_attributes.describe()"
   ]
  },
  {
   "cell_type": "code",
   "execution_count": 23,
   "metadata": {},
   "outputs": [
    {
     "name": "stdout",
     "output_type": "stream",
     "text": [
      "Start: 2021-09-01 00:00:00\n",
      "End: 2022-08-31 23:35:00\n"
     ]
    }
   ],
   "source": [
    "# Period of time\n",
    "print('Start: {}'.format(df3['time'].min()))\n",
    "print('End: {}'.format(df3['time'].max()))"
   ]
  },
  {
   "cell_type": "markdown",
   "metadata": {},
   "source": [
    "# 3 Feature Engineering"
   ]
  },
  {
   "cell_type": "markdown",
   "metadata": {},
   "source": [
    "## 3.1 Time-derived features"
   ]
  },
  {
   "cell_type": "code",
   "execution_count": 24,
   "metadata": {},
   "outputs": [],
   "source": [
    "df4 = df3.copy()"
   ]
  },
  {
   "cell_type": "code",
   "execution_count": 25,
   "metadata": {},
   "outputs": [
    {
     "name": "stderr",
     "output_type": "stream",
     "text": [
      "/tmp/ipykernel_26125/4137512259.py:21: FutureWarning: Series.dt.weekofyear and Series.dt.week have been deprecated. Please use Series.dt.isocalendar().week instead.\n",
      "  df4['week_of_year'] = df4['time'].dt.weekofyear\n"
     ]
    }
   ],
   "source": [
    "# Date:\n",
    "df4['date'] = df4['time'].dt.date\n",
    "df4['date'] = pd.to_datetime(df4['date'])\n",
    " \n",
    "# Year:\n",
    "df4['year'] = df4['time'].dt.year\n",
    "\n",
    "# Month:\n",
    "df4['month'] = df4['time'].dt.month\n",
    "\n",
    "# Year_Month\n",
    "df4['year_month'] = df4['time'].dt.strftime('%Y-%m')\n",
    "\n",
    "# Day of Month\n",
    "df4['day_of_month'] = df4['time'].dt.day\n",
    "\n",
    "# Day of Week\n",
    "df4['day_of_week'] = df4['time'].dt.day_of_week\n",
    "\n",
    "# Week of Year\n",
    "df4['week_of_year'] = df4['time'].dt.weekofyear\n",
    "\n",
    "# Hour\n",
    "df4['hour'] = df4['time'].dt.hour"
   ]
  },
  {
   "cell_type": "markdown",
   "metadata": {},
   "source": [
    "# 4 Exploratory Data Analysis"
   ]
  },
  {
   "cell_type": "markdown",
   "metadata": {},
   "source": [
    "## 4.1 Univariate Analysis"
   ]
  },
  {
   "cell_type": "markdown",
   "metadata": {},
   "source": [
    "### 4.1.1 Response Variable - Temperature "
   ]
  },
  {
   "cell_type": "code",
   "execution_count": 26,
   "metadata": {},
   "outputs": [],
   "source": [
    "# As the temperature had no missing values, we can use the original dataset, before excluding the NA.\n",
    "df_temp = df2[['longitude', 'latitude', 'time', 'station_id', 'sea_temperature']].copy()"
   ]
  },
  {
   "cell_type": "code",
   "execution_count": 27,
   "metadata": {},
   "outputs": [],
   "source": [
    "##### Change Type #####\n",
    "\n",
    "# Longitude\n",
    "df_temp['longitude'] = df_temp['longitude'].astype(float)\n",
    "\n",
    "# Latitude\n",
    "df_temp['latitude'] = df_temp['latitude'].astype(float)\n",
    "\n",
    "# Time\n",
    "df_temp['time'] = pd.to_datetime(df_temp['time']).dt.tz_localize(None)\n",
    "\n",
    "# sea_temperature\n",
    "df_temp['sea_temperature'] = df_temp['sea_temperature'].astype(float)\n",
    "\n",
    "##### Features from time #####\n",
    "\n",
    "# Date:\n",
    "df_temp['date'] = df_temp['time'].dt.date\n",
    "\n",
    "# Year:\n",
    "df_temp['year'] = df_temp['time'].dt.year\n",
    "\n",
    "# Month:\n",
    "df_temp['month'] = df_temp['time'].dt.month\n",
    "\n",
    "# Year_Month\n",
    "df_temp['year_month'] = df_temp['time'].dt.strftime('%Y-%m')\n",
    "\n",
    "# Save as .csv\n",
    "#df_temp.to_csv('../data/sea_temperature.csv', index=False)"
   ]
  },
  {
   "cell_type": "code",
   "execution_count": 28,
   "metadata": {},
   "outputs": [
    {
     "data": {
      "text/plain": [
       "<seaborn.axisgrid.FacetGrid at 0x7f55e705cd30>"
      ]
     },
     "execution_count": 28,
     "metadata": {},
     "output_type": "execute_result"
    },
    {
     "data": {
      "image/png": "[encoded data removed]",
      "text/plain": [
       "<Figure size 500x500 with 1 Axes>"
      ]
     },
     "metadata": {},
     "output_type": "display_data"
    }
   ],
   "source": [
    "# Temperature Distribution\n",
    "sns.displot(df_temp['sea_temperature'])"
   ]
  },
  {
   "cell_type": "code",
   "execution_count": 29,
   "metadata": {},
   "outputs": [
    {
     "data": {
      "image/png": "[encoded data removed]",
      "text/plain": [
       "<Figure size 640x480 with 1 Axes>"
      ]
     },
     "metadata": {},
     "output_type": "display_data"
    }
   ],
   "source": [
    "# Average Temperature per Month\n",
    "mean_temp_day = df_temp[['year_month', 'sea_temperature']].groupby('year_month').mean().reset_index()\n",
    "sns.barplot(x='year_month', y='sea_temperature', data=mean_temp_day)\n",
    "plt.xticks (rotation=90);"
   ]
  },
  {
   "cell_type": "code",
   "execution_count": 30,
   "metadata": {},
   "outputs": [
    {
     "data": {
      "image/png": "[encoded data removed]",
      "text/plain": [
       "<Figure size 640x480 with 1 Axes>"
      ]
     },
     "metadata": {},
     "output_type": "display_data"
    }
   ],
   "source": [
    "# Lowest Temperature per buoy\n",
    "lowest_temp = df_temp[['station_id', 'sea_temperature']].groupby( 'station_id').min().reset_index()\n",
    "sns.barplot(x='station_id', y='sea_temperature', data = lowest_temp);\n",
    "plt.xticks (rotation=90);\n",
    "\n",
    "# plot = sns.countplot(df4['response'])\n",
    "# for i in plot.patches:\n",
    "#     height = i.get_height()\n",
    "#     total = len(df4['response'])\n",
    "#     plot.text(i.get_x() + i.get_width()/2, \n",
    "#               height,\n",
    "#               '{:1.2f}%'.format(height/total*100),\n",
    "#               ha='center')"
   ]
  },
  {
   "cell_type": "markdown",
   "metadata": {},
   "source": [
    "### 4.2 Numerical Attributes"
   ]
  },
  {
   "cell_type": "code",
   "execution_count": 31,
   "metadata": {},
   "outputs": [
    {
     "data": {
      "image/png": "[encoded data removed]",
      "text/plain": [
       "<Figure size 2000x1500 with 16 Axes>"
      ]
     },
     "metadata": {},
     "output_type": "display_data"
    }
   ],
   "source": [
    "sns.set(rc={'figure.figsize':(20,15)})\n",
    "df4.hist();"
   ]
  },
  {
   "cell_type": "markdown",
   "metadata": {},
   "source": [
    "## 4.2 Bivariate Analysis"
   ]
  },
  {
   "cell_type": "markdown",
   "metadata": {},
   "source": [
    "### 4.2.1 Wave Lengths vs Sea Temperature"
   ]
  },
  {
   "cell_type": "code",
   "execution_count": 32,
   "metadata": {},
   "outputs": [
    {
     "data": {
      "text/plain": [
       "<AxesSubplot: xlabel='significant_wave_height', ylabel='sea_temperature'>"
      ]
     },
     "execution_count": 32,
     "metadata": {},
     "output_type": "execute_result"
    },
    {
     "data": {
      "image/png": "[encoded data removed]",
      "text/plain": [
       "<Figure size 600x400 with 1 Axes>"
      ]
     },
     "metadata": {},
     "output_type": "display_data"
    }
   ],
   "source": [
    "# Scatter Plot\n",
    "sns.set(rc={'figure.figsize':(6,4)})\n",
    "aux1 = df4[['significant_wave_height', 'sea_temperature']]\n",
    "sns.scatterplot(data = aux1, x='significant_wave_height', y='sea_temperature')"
   ]
  },
  {
   "cell_type": "code",
   "execution_count": 33,
   "metadata": {},
   "outputs": [
    {
     "data": {
      "image/png": "[encoded data removed]",
      "text/plain": [
       "<Figure size 600x400 with 2 Axes>"
      ]
     },
     "metadata": {},
     "output_type": "display_data"
    }
   ],
   "source": [
    "# Correlation\n",
    "sns.set(rc={'figure.figsize':(6,4)})\n",
    "sns.heatmap(aux1.corr(method='pearson'), annot=True);"
   ]
  },
  {
   "cell_type": "markdown",
   "metadata": {},
   "source": [
    "**Note:**\n",
    "\n",
    "The correlation between Wave Length and Sea Temperature is negative, which means that with a lower temperature, there is a tendency to form larger waves.\n",
    "\n",
    "However, by Pearson's method, this correlation presented a low index, indicating that the sea temperature does not have a very relevant impact on the size of its waves.\n",
    "\n",
    "This indicates that using only this feature and the buoy position, it would not be possible to build a predictive model with high accuracy."
   ]
  },
  {
   "cell_type": "markdown",
   "metadata": {},
   "source": [
    "# 5 Data Preparation"
   ]
  },
  {
   "cell_type": "markdown",
   "metadata": {},
   "source": [
    "## 5.1 Rescaling - Numerical Attributes"
   ]
  },
  {
   "cell_type": "code",
   "execution_count": 34,
   "metadata": {},
   "outputs": [],
   "source": [
    "df5 = df4.copy()"
   ]
  },
  {
   "cell_type": "code",
   "execution_count": 35,
   "metadata": {},
   "outputs": [],
   "source": [
    "mms = MinMaxScaler()\n",
    "rs = RobustScaler()\n",
    "\n",
    "# peak_period\n",
    "df5['peak_period'] = mms.fit_transform(df5[['peak_period']].values)\n",
    "pickle.dump(mms, open( '../parameter/peak_period_scaler.pkl', 'wb'))\n",
    "\n",
    "# peak_direction\n",
    "df5['peak_direction'] = rs.fit_transform(df5[['peak_direction']].values)\n",
    "pickle.dump(rs, open( '../parameter/peak_direction_scaler.pkl', 'wb'))\n",
    "\n",
    "# upcross_period\n",
    "df5['upcross_period'] = mms.fit_transform(df5[['upcross_period']].values)\n",
    "pickle.dump(mms, open( '../parameter/upcross_period_scaler.pkl', 'wb'))\n",
    "\n",
    "# significant_wave_height\n",
    "df5['significant_wave_height'] = rs.fit_transform(df5[['significant_wave_height']].values)\n",
    "pickle.dump(rs, open( '../parameter/significant_wave_height_scaler.pkl', 'wb'))\n",
    "\n",
    "# year\n",
    "df5['year'] = mms.fit_transform(df5[['year']].values)\n",
    "pickle.dump(mms, open( '../parameter/year_scaler.pkl', 'wb'))\n"
   ]
  },
  {
   "cell_type": "code",
   "execution_count": 36,
   "metadata": {},
   "outputs": [
    {
     "data": {
      "text/html": [
       "<div>\n",
       "<style scoped>\n",
       "    .dataframe tbody tr th:only-of-type {\n",
       "        vertical-align: middle;\n",
       "    }\n",
       "\n",
       "    .dataframe tbody tr th {\n",
       "        vertical-align: top;\n",
       "    }\n",
       "\n",
       "    .dataframe thead th {\n",
       "        text-align: right;\n",
       "    }\n",
       "</style>\n",
       "<table border=\"1\" class=\"dataframe\">\n",
       "  <thead>\n",
       "    <tr style=\"text-align: right;\">\n",
       "      <th></th>\n",
       "      <th>Attributes</th>\n",
       "      <th>Min</th>\n",
       "      <th>Max</th>\n",
       "      <th>Range</th>\n",
       "      <th>Mean</th>\n",
       "      <th>Median</th>\n",
       "      <th>STD</th>\n",
       "      <th>Skew</th>\n",
       "      <th>Kurtosis</th>\n",
       "    </tr>\n",
       "  </thead>\n",
       "  <tbody>\n",
       "    <tr>\n",
       "      <th>0</th>\n",
       "      <td>peak_period</td>\n",
       "      <td>0.000000</td>\n",
       "      <td>1.000000</td>\n",
       "      <td>1.000000</td>\n",
       "      <td>0.379242</td>\n",
       "      <td>0.391505</td>\n",
       "      <td>0.137653</td>\n",
       "      <td>-0.065485</td>\n",
       "      <td>0.366812</td>\n",
       "    </tr>\n",
       "    <tr>\n",
       "      <th>1</th>\n",
       "      <td>peak_direction</td>\n",
       "      <td>-4.653408</td>\n",
       "      <td>1.545075</td>\n",
       "      <td>6.198484</td>\n",
       "      <td>-0.036247</td>\n",
       "      <td>0.000000</td>\n",
       "      <td>0.955395</td>\n",
       "      <td>-2.463418</td>\n",
       "      <td>9.191607</td>\n",
       "    </tr>\n",
       "    <tr>\n",
       "      <th>2</th>\n",
       "      <td>upcross_period</td>\n",
       "      <td>0.000000</td>\n",
       "      <td>1.000000</td>\n",
       "      <td>1.000000</td>\n",
       "      <td>0.210525</td>\n",
       "      <td>0.205834</td>\n",
       "      <td>0.092847</td>\n",
       "      <td>0.315567</td>\n",
       "      <td>-0.235207</td>\n",
       "    </tr>\n",
       "    <tr>\n",
       "      <th>3</th>\n",
       "      <td>significant_wave_height</td>\n",
       "      <td>-0.747253</td>\n",
       "      <td>9.247253</td>\n",
       "      <td>9.994505</td>\n",
       "      <td>0.252976</td>\n",
       "      <td>0.000000</td>\n",
       "      <td>0.887966</td>\n",
       "      <td>1.824256</td>\n",
       "      <td>4.867176</td>\n",
       "    </tr>\n",
       "    <tr>\n",
       "      <th>4</th>\n",
       "      <td>year</td>\n",
       "      <td>0.000000</td>\n",
       "      <td>1.000000</td>\n",
       "      <td>1.000000</td>\n",
       "      <td>0.606092</td>\n",
       "      <td>1.000000</td>\n",
       "      <td>0.488615</td>\n",
       "      <td>-0.434262</td>\n",
       "      <td>-1.811462</td>\n",
       "    </tr>\n",
       "  </tbody>\n",
       "</table>\n",
       "</div>"
      ],
      "text/plain": [
       "                Attributes       Min       Max     Range      Mean    Median  \\\n",
       "0              peak_period  0.000000  1.000000  1.000000  0.379242  0.391505   \n",
       "1           peak_direction -4.653408  1.545075  6.198484 -0.036247  0.000000   \n",
       "2           upcross_period  0.000000  1.000000  1.000000  0.210525  0.205834   \n",
       "3  significant_wave_height -0.747253  9.247253  9.994505  0.252976  0.000000   \n",
       "4                     year  0.000000  1.000000  1.000000  0.606092  1.000000   \n",
       "\n",
       "        STD      Skew  Kurtosis  \n",
       "0  0.137653 -0.065485  0.366812  \n",
       "1  0.955395 -2.463418  9.191607  \n",
       "2  0.092847  0.315567 -0.235207  \n",
       "3  0.887966  1.824256  4.867176  \n",
       "4  0.488615 -0.434262 -1.811462  "
      ]
     },
     "execution_count": 36,
     "metadata": {},
     "output_type": "execute_result"
    }
   ],
   "source": [
    "numerical_metrics(df5[['peak_period', 'peak_direction', 'upcross_period', 'significant_wave_height', 'year']])"
   ]
  },
  {
   "cell_type": "markdown",
   "metadata": {},
   "source": [
    "## 5.2 Encoding - Categorical Attributes"
   ]
  },
  {
   "cell_type": "code",
   "execution_count": 37,
   "metadata": {},
   "outputs": [],
   "source": [
    "# station_id\n",
    "le = LabelEncoder()\n",
    "df5['station_id'] = le.fit_transform(df5['station_id'])\n",
    "pickle.dump(le, open( '../parameter/station_id_scaler.pkl', 'wb'))"
   ]
  },
  {
   "cell_type": "code",
   "execution_count": 38,
   "metadata": {},
   "outputs": [
    {
     "data": {
      "text/plain": [
       "array([0, 1, 2, 3, 4, 5])"
      ]
     },
     "execution_count": 38,
     "metadata": {},
     "output_type": "execute_result"
    }
   ],
   "source": [
    "df5['station_id'].unique()"
   ]
  },
  {
   "cell_type": "markdown",
   "metadata": {},
   "source": [
    "## 5.3 Nature Transformation - Cyclic Attributes"
   ]
  },
  {
   "cell_type": "code",
   "execution_count": 39,
   "metadata": {},
   "outputs": [],
   "source": [
    "# month\n",
    "df5['month_sin'] = df5['month'].apply( lambda x: np.sin( x*( 2. * np.pi/12 ) ) )\n",
    "df5['month_cos'] = df5['month'].apply( lambda x: np.cos( x*( 2. * np.pi/12 ) ) )\n",
    "\n",
    "# day of month\n",
    "df5['day_sin'] = df5['day_of_month'].apply( lambda x: np.sin( x*( 2. * np.pi/30 ) ) )\n",
    "df5['day_cos'] = df5['day_of_month'].apply( lambda x: np.cos( x*( 2. * np.pi/30 ) ) )\n",
    "\n",
    "# week of year\n",
    "df5['week_of_year_sin'] = df5['week_of_year'].apply( lambda x: np.sin( x*( 2. * np.pi/52 ) ) )\n",
    "df5['week_of_year_cos'] = df5['week_of_year'].apply( lambda x: np.cos( x*( 2. * np.pi/52 ) ) )\n",
    "\n",
    "# day of week\n",
    "df5['day_of_week_sin'] = df5['day_of_week'].apply( lambda x: np.sin( x*( 2. * np.pi/7 ) ) )\n",
    "df5['day_of_week_cos'] = df5['day_of_week'].apply( lambda x: np.cos( x*( 2. * np.pi/7 ) ) )\n",
    "\n",
    "# hour\n",
    "df5['hour_sin'] = df5['hour'].apply( lambda x: np.sin( x*( 2. * np.pi/24 ) ) )\n",
    "df5['hour_cos'] = df5['hour'].apply( lambda x: np.cos( x*( 2. * np.pi/24 ) ) )"
   ]
  },
  {
   "cell_type": "markdown",
   "metadata": {},
   "source": [
    "# 6. Feature Selection"
   ]
  },
  {
   "cell_type": "markdown",
   "metadata": {},
   "source": [
    "## 6.1 Split Dataframe into training and test dataset"
   ]
  },
  {
   "cell_type": "code",
   "execution_count": 40,
   "metadata": {},
   "outputs": [],
   "source": [
    "df6 = df5.copy()"
   ]
  },
  {
   "cell_type": "code",
   "execution_count": 41,
   "metadata": {},
   "outputs": [],
   "source": [
    "cols_drop = ['longitude','latitude', 'date', 'year', 'month', 'day_of_month', 'week_of_year', 'day_of_week', 'hour']\n",
    "df6 = df6.drop(cols_drop, axis=1)"
   ]
  },
  {
   "cell_type": "code",
   "execution_count": 42,
   "metadata": {},
   "outputs": [
    {
     "data": {
      "text/plain": [
       "time                       datetime64[ns]\n",
       "station_id                          int64\n",
       "peak_period                       float64\n",
       "peak_direction                    float64\n",
       "upcross_period                    float64\n",
       "significant_wave_height           float64\n",
       "sea_temperature                   float64\n",
       "year_month                         object\n",
       "month_sin                         float64\n",
       "month_cos                         float64\n",
       "day_sin                           float64\n",
       "day_cos                           float64\n",
       "week_of_year_sin                  float64\n",
       "week_of_year_cos                  float64\n",
       "day_of_week_sin                   float64\n",
       "day_of_week_cos                   float64\n",
       "hour_sin                          float64\n",
       "hour_cos                          float64\n",
       "dtype: object"
      ]
     },
     "execution_count": 42,
     "metadata": {},
     "output_type": "execute_result"
    }
   ],
   "source": [
    "df6.dtypes"
   ]
  },
  {
   "cell_type": "code",
   "execution_count": 43,
   "metadata": {},
   "outputs": [],
   "source": [
    "# Training Dataset\n",
    "X_train = df6[df6['year_month']<'2022-06'].reset_index(drop=True) # approximately 80% of the dataset\n",
    "y_train = X_train['sea_temperature'].reset_index(drop=True)\n",
    "\n",
    "# Validation Dataset\n",
    "X_val = df6[df6['year_month']>='2022-06'].reset_index(drop=True) # approximately 20% of the dataset\n",
    "y_val = X_val['sea_temperature'].reset_index(drop=True)"
   ]
  },
  {
   "cell_type": "markdown",
   "metadata": {},
   "source": [
    "## 6.2 Boruta as Feature Selector"
   ]
  },
  {
   "cell_type": "code",
   "execution_count": 44,
   "metadata": {},
   "outputs": [],
   "source": [
    "# # Training and test dataset for Boruta\n",
    "# X_train_n = X_train.drop(['time', 'date', 'year_month', 'sea_temperature'], axis=1)\n",
    "# y_train_n = y_train.values.ravel()\n",
    "\n",
    "# # define RandomForestRegressor\n",
    "# rf = RandomForestRegressor(n_jobs=-1)\n",
    "\n",
    "# # define boruta\n",
    "# boruta = BorutaPy(rf, n_estimators = 'auto', verbose=2, random_state=42).fit(X_train_n, y_train_n)"
   ]
  },
  {
   "cell_type": "code",
   "execution_count": 45,
   "metadata": {},
   "outputs": [],
   "source": [
    "# cols_selected = boruta.support_.tolist()\n",
    "\n",
    "# X_train_fs = X_train.drop(['time', 'date', 'year_month', 'sea_temperature'], axis=1)\n",
    "# cols_selected_boruta = X_train_fs.iloc[: , cols_selected].columns.to_list()\n",
    "\n",
    "# # not selected boruta\n",
    "# cols_not_selected_boruta = list(np.setdiff1d(X_train_fs.columns, cols_selected_boruta))"
   ]
  },
  {
   "cell_type": "code",
   "execution_count": 46,
   "metadata": {},
   "outputs": [],
   "source": [
    "cols_selected_boruta = ['station_id',\n",
    "                        'peak_period',\n",
    "                        'peak_direction',\n",
    "                        'upcross_period',\n",
    "                        'significant_wave_height',\n",
    "                        'month_sin',\n",
    "                        'month_cos',\n",
    "                        'day_sin',\n",
    "                        'day_cos',\n",
    "                        'week_of_year_sin',\n",
    "                        'week_of_year_cos',\n",
    "                        'day_of_week_sin',\n",
    "                        'day_of_week_cos',\n",
    "                        'hour_sin',\n",
    "                        'hour_cos']"
   ]
  },
  {
   "cell_type": "code",
   "execution_count": 47,
   "metadata": {},
   "outputs": [],
   "source": [
    "# Time Series Modelling\n",
    "x_train = X_train[cols_selected_boruta]\n",
    "x_val = X_val[cols_selected_boruta]\n",
    "\n",
    "# Time Series Cross Validation\n",
    "x_training = df6.copy()"
   ]
  },
  {
   "cell_type": "code",
   "execution_count": 48,
   "metadata": {},
   "outputs": [
    {
     "data": {
      "text/html": [
       "<div>\n",
       "<style scoped>\n",
       "    .dataframe tbody tr th:only-of-type {\n",
       "        vertical-align: middle;\n",
       "    }\n",
       "\n",
       "    .dataframe tbody tr th {\n",
       "        vertical-align: top;\n",
       "    }\n",
       "\n",
       "    .dataframe thead th {\n",
       "        text-align: right;\n",
       "    }\n",
       "</style>\n",
       "<table border=\"1\" class=\"dataframe\">\n",
       "  <thead>\n",
       "    <tr style=\"text-align: right;\">\n",
       "      <th></th>\n",
       "      <th>time</th>\n",
       "      <th>station_id</th>\n",
       "      <th>peak_period</th>\n",
       "      <th>peak_direction</th>\n",
       "      <th>upcross_period</th>\n",
       "      <th>significant_wave_height</th>\n",
       "      <th>sea_temperature</th>\n",
       "      <th>year_month</th>\n",
       "      <th>month_sin</th>\n",
       "      <th>month_cos</th>\n",
       "      <th>day_sin</th>\n",
       "      <th>day_cos</th>\n",
       "      <th>week_of_year_sin</th>\n",
       "      <th>week_of_year_cos</th>\n",
       "      <th>day_of_week_sin</th>\n",
       "      <th>day_of_week_cos</th>\n",
       "      <th>hour_sin</th>\n",
       "      <th>hour_cos</th>\n",
       "    </tr>\n",
       "  </thead>\n",
       "  <tbody>\n",
       "    <tr>\n",
       "      <th>1</th>\n",
       "      <td>2021-09-01 00:22:00</td>\n",
       "      <td>0</td>\n",
       "      <td>0.148865</td>\n",
       "      <td>-4.120851</td>\n",
       "      <td>0.128342</td>\n",
       "      <td>-0.269231</td>\n",
       "      <td>15.70</td>\n",
       "      <td>2021-09</td>\n",
       "      <td>-1.000000</td>\n",
       "      <td>-1.836970e-16</td>\n",
       "      <td>0.207912</td>\n",
       "      <td>0.978148</td>\n",
       "      <td>-0.885456</td>\n",
       "      <td>-0.464723</td>\n",
       "      <td>0.974928</td>\n",
       "      <td>-0.222521</td>\n",
       "      <td>0.000000</td>\n",
       "      <td>1.000000</td>\n",
       "    </tr>\n",
       "    <tr>\n",
       "      <th>2</th>\n",
       "      <td>2021-09-01 00:52:00</td>\n",
       "      <td>0</td>\n",
       "      <td>0.131623</td>\n",
       "      <td>-4.046742</td>\n",
       "      <td>0.118911</td>\n",
       "      <td>-0.285714</td>\n",
       "      <td>15.55</td>\n",
       "      <td>2021-09</td>\n",
       "      <td>-1.000000</td>\n",
       "      <td>-1.836970e-16</td>\n",
       "      <td>0.207912</td>\n",
       "      <td>0.978148</td>\n",
       "      <td>-0.885456</td>\n",
       "      <td>-0.464723</td>\n",
       "      <td>0.974928</td>\n",
       "      <td>-0.222521</td>\n",
       "      <td>0.000000</td>\n",
       "      <td>1.000000</td>\n",
       "    </tr>\n",
       "    <tr>\n",
       "      <th>3</th>\n",
       "      <td>2021-09-01 01:22:00</td>\n",
       "      <td>0</td>\n",
       "      <td>0.140034</td>\n",
       "      <td>-4.120851</td>\n",
       "      <td>0.122606</td>\n",
       "      <td>-0.274725</td>\n",
       "      <td>15.35</td>\n",
       "      <td>2021-09</td>\n",
       "      <td>-1.000000</td>\n",
       "      <td>-1.836970e-16</td>\n",
       "      <td>0.207912</td>\n",
       "      <td>0.978148</td>\n",
       "      <td>-0.885456</td>\n",
       "      <td>-0.464723</td>\n",
       "      <td>0.974928</td>\n",
       "      <td>-0.222521</td>\n",
       "      <td>0.258819</td>\n",
       "      <td>0.965926</td>\n",
       "    </tr>\n",
       "    <tr>\n",
       "      <th>4</th>\n",
       "      <td>2021-09-01 01:52:00</td>\n",
       "      <td>0</td>\n",
       "      <td>0.131623</td>\n",
       "      <td>-4.120851</td>\n",
       "      <td>0.120710</td>\n",
       "      <td>-0.302198</td>\n",
       "      <td>15.40</td>\n",
       "      <td>2021-09</td>\n",
       "      <td>-1.000000</td>\n",
       "      <td>-1.836970e-16</td>\n",
       "      <td>0.207912</td>\n",
       "      <td>0.978148</td>\n",
       "      <td>-0.885456</td>\n",
       "      <td>-0.464723</td>\n",
       "      <td>0.974928</td>\n",
       "      <td>-0.222521</td>\n",
       "      <td>0.258819</td>\n",
       "      <td>0.965926</td>\n",
       "    </tr>\n",
       "    <tr>\n",
       "      <th>5</th>\n",
       "      <td>2021-09-01 02:22:00</td>\n",
       "      <td>0</td>\n",
       "      <td>0.169891</td>\n",
       "      <td>-4.289753</td>\n",
       "      <td>0.120710</td>\n",
       "      <td>-0.313187</td>\n",
       "      <td>15.35</td>\n",
       "      <td>2021-09</td>\n",
       "      <td>-1.000000</td>\n",
       "      <td>-1.836970e-16</td>\n",
       "      <td>0.207912</td>\n",
       "      <td>0.978148</td>\n",
       "      <td>-0.885456</td>\n",
       "      <td>-0.464723</td>\n",
       "      <td>0.974928</td>\n",
       "      <td>-0.222521</td>\n",
       "      <td>0.500000</td>\n",
       "      <td>0.866025</td>\n",
       "    </tr>\n",
       "    <tr>\n",
       "      <th>...</th>\n",
       "      <td>...</td>\n",
       "      <td>...</td>\n",
       "      <td>...</td>\n",
       "      <td>...</td>\n",
       "      <td>...</td>\n",
       "      <td>...</td>\n",
       "      <td>...</td>\n",
       "      <td>...</td>\n",
       "      <td>...</td>\n",
       "      <td>...</td>\n",
       "      <td>...</td>\n",
       "      <td>...</td>\n",
       "      <td>...</td>\n",
       "      <td>...</td>\n",
       "      <td>...</td>\n",
       "      <td>...</td>\n",
       "      <td>...</td>\n",
       "      <td>...</td>\n",
       "    </tr>\n",
       "    <tr>\n",
       "      <th>258367</th>\n",
       "      <td>2022-08-31 21:30:00</td>\n",
       "      <td>5</td>\n",
       "      <td>0.023129</td>\n",
       "      <td>-2.756439</td>\n",
       "      <td>0.009723</td>\n",
       "      <td>-0.670330</td>\n",
       "      <td>17.52</td>\n",
       "      <td>2022-08</td>\n",
       "      <td>-0.866025</td>\n",
       "      <td>-5.000000e-01</td>\n",
       "      <td>0.207912</td>\n",
       "      <td>0.978148</td>\n",
       "      <td>-0.885456</td>\n",
       "      <td>-0.464723</td>\n",
       "      <td>0.974928</td>\n",
       "      <td>-0.222521</td>\n",
       "      <td>-0.707107</td>\n",
       "      <td>0.707107</td>\n",
       "    </tr>\n",
       "    <tr>\n",
       "      <th>258373</th>\n",
       "      <td>2022-08-31 22:00:00</td>\n",
       "      <td>5</td>\n",
       "      <td>0.020606</td>\n",
       "      <td>-2.853409</td>\n",
       "      <td>0.008264</td>\n",
       "      <td>-0.664835</td>\n",
       "      <td>17.52</td>\n",
       "      <td>2022-08</td>\n",
       "      <td>-0.866025</td>\n",
       "      <td>-5.000000e-01</td>\n",
       "      <td>0.207912</td>\n",
       "      <td>0.978148</td>\n",
       "      <td>-0.885456</td>\n",
       "      <td>-0.464723</td>\n",
       "      <td>0.974928</td>\n",
       "      <td>-0.222521</td>\n",
       "      <td>-0.500000</td>\n",
       "      <td>0.866025</td>\n",
       "    </tr>\n",
       "    <tr>\n",
       "      <th>258379</th>\n",
       "      <td>2022-08-31 22:30:00</td>\n",
       "      <td>5</td>\n",
       "      <td>0.020606</td>\n",
       "      <td>-2.726136</td>\n",
       "      <td>0.006806</td>\n",
       "      <td>-0.664835</td>\n",
       "      <td>17.52</td>\n",
       "      <td>2022-08</td>\n",
       "      <td>-0.866025</td>\n",
       "      <td>-5.000000e-01</td>\n",
       "      <td>0.207912</td>\n",
       "      <td>0.978148</td>\n",
       "      <td>-0.885456</td>\n",
       "      <td>-0.464723</td>\n",
       "      <td>0.974928</td>\n",
       "      <td>-0.222521</td>\n",
       "      <td>-0.500000</td>\n",
       "      <td>0.866025</td>\n",
       "    </tr>\n",
       "    <tr>\n",
       "      <th>258385</th>\n",
       "      <td>2022-08-31 23:00:00</td>\n",
       "      <td>5</td>\n",
       "      <td>0.022288</td>\n",
       "      <td>-2.812499</td>\n",
       "      <td>0.006806</td>\n",
       "      <td>-0.659341</td>\n",
       "      <td>17.52</td>\n",
       "      <td>2022-08</td>\n",
       "      <td>-0.866025</td>\n",
       "      <td>-5.000000e-01</td>\n",
       "      <td>0.207912</td>\n",
       "      <td>0.978148</td>\n",
       "      <td>-0.885456</td>\n",
       "      <td>-0.464723</td>\n",
       "      <td>0.974928</td>\n",
       "      <td>-0.222521</td>\n",
       "      <td>-0.258819</td>\n",
       "      <td>0.965926</td>\n",
       "    </tr>\n",
       "    <tr>\n",
       "      <th>258391</th>\n",
       "      <td>2022-08-31 23:30:00</td>\n",
       "      <td>5</td>\n",
       "      <td>0.021026</td>\n",
       "      <td>-2.677651</td>\n",
       "      <td>0.007778</td>\n",
       "      <td>-0.648352</td>\n",
       "      <td>17.48</td>\n",
       "      <td>2022-08</td>\n",
       "      <td>-0.866025</td>\n",
       "      <td>-5.000000e-01</td>\n",
       "      <td>0.207912</td>\n",
       "      <td>0.978148</td>\n",
       "      <td>-0.885456</td>\n",
       "      <td>-0.464723</td>\n",
       "      <td>0.974928</td>\n",
       "      <td>-0.222521</td>\n",
       "      <td>-0.258819</td>\n",
       "      <td>0.965926</td>\n",
       "    </tr>\n",
       "  </tbody>\n",
       "</table>\n",
       "<p>79290 rows × 18 columns</p>\n",
       "</div>"
      ],
      "text/plain": [
       "                      time  station_id  peak_period  peak_direction  \\\n",
       "1      2021-09-01 00:22:00           0     0.148865       -4.120851   \n",
       "2      2021-09-01 00:52:00           0     0.131623       -4.046742   \n",
       "3      2021-09-01 01:22:00           0     0.140034       -4.120851   \n",
       "4      2021-09-01 01:52:00           0     0.131623       -4.120851   \n",
       "5      2021-09-01 02:22:00           0     0.169891       -4.289753   \n",
       "...                    ...         ...          ...             ...   \n",
       "258367 2022-08-31 21:30:00           5     0.023129       -2.756439   \n",
       "258373 2022-08-31 22:00:00           5     0.020606       -2.853409   \n",
       "258379 2022-08-31 22:30:00           5     0.020606       -2.726136   \n",
       "258385 2022-08-31 23:00:00           5     0.022288       -2.812499   \n",
       "258391 2022-08-31 23:30:00           5     0.021026       -2.677651   \n",
       "\n",
       "        upcross_period  significant_wave_height  sea_temperature year_month  \\\n",
       "1             0.128342                -0.269231            15.70    2021-09   \n",
       "2             0.118911                -0.285714            15.55    2021-09   \n",
       "3             0.122606                -0.274725            15.35    2021-09   \n",
       "4             0.120710                -0.302198            15.40    2021-09   \n",
       "5             0.120710                -0.313187            15.35    2021-09   \n",
       "...                ...                      ...              ...        ...   \n",
       "258367        0.009723                -0.670330            17.52    2022-08   \n",
       "258373        0.008264                -0.664835            17.52    2022-08   \n",
       "258379        0.006806                -0.664835            17.52    2022-08   \n",
       "258385        0.006806                -0.659341            17.52    2022-08   \n",
       "258391        0.007778                -0.648352            17.48    2022-08   \n",
       "\n",
       "        month_sin     month_cos   day_sin   day_cos  week_of_year_sin  \\\n",
       "1       -1.000000 -1.836970e-16  0.207912  0.978148         -0.885456   \n",
       "2       -1.000000 -1.836970e-16  0.207912  0.978148         -0.885456   \n",
       "3       -1.000000 -1.836970e-16  0.207912  0.978148         -0.885456   \n",
       "4       -1.000000 -1.836970e-16  0.207912  0.978148         -0.885456   \n",
       "5       -1.000000 -1.836970e-16  0.207912  0.978148         -0.885456   \n",
       "...           ...           ...       ...       ...               ...   \n",
       "258367  -0.866025 -5.000000e-01  0.207912  0.978148         -0.885456   \n",
       "258373  -0.866025 -5.000000e-01  0.207912  0.978148         -0.885456   \n",
       "258379  -0.866025 -5.000000e-01  0.207912  0.978148         -0.885456   \n",
       "258385  -0.866025 -5.000000e-01  0.207912  0.978148         -0.885456   \n",
       "258391  -0.866025 -5.000000e-01  0.207912  0.978148         -0.885456   \n",
       "\n",
       "        week_of_year_cos  day_of_week_sin  day_of_week_cos  hour_sin  hour_cos  \n",
       "1              -0.464723         0.974928        -0.222521  0.000000  1.000000  \n",
       "2              -0.464723         0.974928        -0.222521  0.000000  1.000000  \n",
       "3              -0.464723         0.974928        -0.222521  0.258819  0.965926  \n",
       "4              -0.464723         0.974928        -0.222521  0.258819  0.965926  \n",
       "5              -0.464723         0.974928        -0.222521  0.500000  0.866025  \n",
       "...                  ...              ...              ...       ...       ...  \n",
       "258367         -0.464723         0.974928        -0.222521 -0.707107  0.707107  \n",
       "258373         -0.464723         0.974928        -0.222521 -0.500000  0.866025  \n",
       "258379         -0.464723         0.974928        -0.222521 -0.500000  0.866025  \n",
       "258385         -0.464723         0.974928        -0.222521 -0.258819  0.965926  \n",
       "258391         -0.464723         0.974928        -0.222521 -0.258819  0.965926  \n",
       "\n",
       "[79290 rows x 18 columns]"
      ]
     },
     "execution_count": 48,
     "metadata": {},
     "output_type": "execute_result"
    }
   ],
   "source": [
    "x_training"
   ]
  },
  {
   "cell_type": "markdown",
   "metadata": {},
   "source": [
    "# 7. Machine Learning Modelling"
   ]
  },
  {
   "cell_type": "markdown",
   "metadata": {},
   "source": [
    "## 7.1 Linear Regression Model"
   ]
  },
  {
   "cell_type": "code",
   "execution_count": 49,
   "metadata": {},
   "outputs": [
    {
     "data": {
      "text/html": [
       "<div>\n",
       "<style scoped>\n",
       "    .dataframe tbody tr th:only-of-type {\n",
       "        vertical-align: middle;\n",
       "    }\n",
       "\n",
       "    .dataframe tbody tr th {\n",
       "        vertical-align: top;\n",
       "    }\n",
       "\n",
       "    .dataframe thead th {\n",
       "        text-align: right;\n",
       "    }\n",
       "</style>\n",
       "<table border=\"1\" class=\"dataframe\">\n",
       "  <thead>\n",
       "    <tr style=\"text-align: right;\">\n",
       "      <th></th>\n",
       "      <th>Model Name</th>\n",
       "      <th>MAE</th>\n",
       "      <th>MAPE</th>\n",
       "      <th>RSME</th>\n",
       "    </tr>\n",
       "  </thead>\n",
       "  <tbody>\n",
       "    <tr>\n",
       "      <th>0</th>\n",
       "      <td>Linear Regression</td>\n",
       "      <td>1.270462</td>\n",
       "      <td>0.081739</td>\n",
       "      <td>1.54466</td>\n",
       "    </tr>\n",
       "  </tbody>\n",
       "</table>\n",
       "</div>"
      ],
      "text/plain": [
       "          Model Name       MAE      MAPE     RSME\n",
       "0  Linear Regression  1.270462  0.081739  1.54466"
      ]
     },
     "execution_count": 49,
     "metadata": {},
     "output_type": "execute_result"
    }
   ],
   "source": [
    "# Model\n",
    "lr = LinearRegression().fit (x_train, y_train)\n",
    "\n",
    "# Prediction\n",
    "yhat_lr = lr.predict(x_val)\n",
    "\n",
    "# Performance\n",
    "lr_result = ml_error ('Linear Regression', y_val, yhat_lr)\n",
    "lr_result"
   ]
  },
  {
   "cell_type": "code",
   "execution_count": 50,
   "metadata": {},
   "outputs": [
    {
     "data": {
      "text/html": [
       "<div>\n",
       "<style scoped>\n",
       "    .dataframe tbody tr th:only-of-type {\n",
       "        vertical-align: middle;\n",
       "    }\n",
       "\n",
       "    .dataframe tbody tr th {\n",
       "        vertical-align: top;\n",
       "    }\n",
       "\n",
       "    .dataframe thead th {\n",
       "        text-align: right;\n",
       "    }\n",
       "</style>\n",
       "<table border=\"1\" class=\"dataframe\">\n",
       "  <thead>\n",
       "    <tr style=\"text-align: right;\">\n",
       "      <th></th>\n",
       "      <th>Model Name</th>\n",
       "      <th>MAE CV</th>\n",
       "      <th>MAPE CV</th>\n",
       "      <th>RSME CV</th>\n",
       "    </tr>\n",
       "  </thead>\n",
       "  <tbody>\n",
       "    <tr>\n",
       "      <th>0</th>\n",
       "      <td>Linear Regression</td>\n",
       "      <td>1.22 +/- 0.057</td>\n",
       "      <td>0.111 +/- 0.021</td>\n",
       "      <td>1.482 +/- 0.051</td>\n",
       "    </tr>\n",
       "  </tbody>\n",
       "</table>\n",
       "</div>"
      ],
      "text/plain": [
       "          Model Name          MAE CV          MAPE CV          RSME CV\n",
       "0  Linear Regression  1.22 +/- 0.057  0.111 +/- 0.021  1.482 +/- 0.051"
      ]
     },
     "execution_count": 50,
     "metadata": {},
     "output_type": "execute_result"
    }
   ],
   "source": [
    "# LR Cross Validation:\n",
    "lr_result_cv = cross_validation (x_training, 3, 'Linear Regression', lr)\n",
    "lr_result_cv"
   ]
  },
  {
   "cell_type": "markdown",
   "metadata": {},
   "source": [
    "## 7.2 Linear Regression Regularized Model - Lasso"
   ]
  },
  {
   "cell_type": "code",
   "execution_count": 51,
   "metadata": {},
   "outputs": [
    {
     "data": {
      "text/html": [
       "<div>\n",
       "<style scoped>\n",
       "    .dataframe tbody tr th:only-of-type {\n",
       "        vertical-align: middle;\n",
       "    }\n",
       "\n",
       "    .dataframe tbody tr th {\n",
       "        vertical-align: top;\n",
       "    }\n",
       "\n",
       "    .dataframe thead th {\n",
       "        text-align: right;\n",
       "    }\n",
       "</style>\n",
       "<table border=\"1\" class=\"dataframe\">\n",
       "  <thead>\n",
       "    <tr style=\"text-align: right;\">\n",
       "      <th></th>\n",
       "      <th>Model Name</th>\n",
       "      <th>MAE</th>\n",
       "      <th>MAPE</th>\n",
       "      <th>RSME</th>\n",
       "    </tr>\n",
       "  </thead>\n",
       "  <tbody>\n",
       "    <tr>\n",
       "      <th>0</th>\n",
       "      <td>Linear Regression</td>\n",
       "      <td>1.256149</td>\n",
       "      <td>0.080579</td>\n",
       "      <td>1.532421</td>\n",
       "    </tr>\n",
       "  </tbody>\n",
       "</table>\n",
       "</div>"
      ],
      "text/plain": [
       "          Model Name       MAE      MAPE      RSME\n",
       "0  Linear Regression  1.256149  0.080579  1.532421"
      ]
     },
     "execution_count": 51,
     "metadata": {},
     "output_type": "execute_result"
    }
   ],
   "source": [
    "# Model\n",
    "lrr = Lasso(alpha=0.01).fit (x_train, y_train)\n",
    "\n",
    "# Prediction\n",
    "yhat_lrr = lrr.predict(x_val)\n",
    "\n",
    "# Performance\n",
    "lrr_result = ml_error ('Linear Regression', y_val, yhat_lrr )\n",
    "lrr_result"
   ]
  },
  {
   "cell_type": "code",
   "execution_count": 52,
   "metadata": {},
   "outputs": [
    {
     "data": {
      "text/html": [
       "<div>\n",
       "<style scoped>\n",
       "    .dataframe tbody tr th:only-of-type {\n",
       "        vertical-align: middle;\n",
       "    }\n",
       "\n",
       "    .dataframe tbody tr th {\n",
       "        vertical-align: top;\n",
       "    }\n",
       "\n",
       "    .dataframe thead th {\n",
       "        text-align: right;\n",
       "    }\n",
       "</style>\n",
       "<table border=\"1\" class=\"dataframe\">\n",
       "  <thead>\n",
       "    <tr style=\"text-align: right;\">\n",
       "      <th></th>\n",
       "      <th>Model Name</th>\n",
       "      <th>MAE CV</th>\n",
       "      <th>MAPE CV</th>\n",
       "      <th>RSME CV</th>\n",
       "    </tr>\n",
       "  </thead>\n",
       "  <tbody>\n",
       "    <tr>\n",
       "      <th>0</th>\n",
       "      <td>Lasso</td>\n",
       "      <td>1.345 +/- 0.169</td>\n",
       "      <td>0.125 +/- 0.041</td>\n",
       "      <td>1.605 +/- 0.23</td>\n",
       "    </tr>\n",
       "  </tbody>\n",
       "</table>\n",
       "</div>"
      ],
      "text/plain": [
       "  Model Name           MAE CV          MAPE CV         RSME CV\n",
       "0      Lasso  1.345 +/- 0.169  0.125 +/- 0.041  1.605 +/- 0.23"
      ]
     },
     "execution_count": 52,
     "metadata": {},
     "output_type": "execute_result"
    }
   ],
   "source": [
    "# LRR Cross Validation:\n",
    "lrr_result_cv = cross_validation (x_training, 3, 'Lasso', lrr)\n",
    "lrr_result_cv"
   ]
  },
  {
   "cell_type": "markdown",
   "metadata": {},
   "source": [
    "## 7.3 Random Forest Regressor"
   ]
  },
  {
   "cell_type": "code",
   "execution_count": 53,
   "metadata": {},
   "outputs": [
    {
     "data": {
      "text/html": [
       "<div>\n",
       "<style scoped>\n",
       "    .dataframe tbody tr th:only-of-type {\n",
       "        vertical-align: middle;\n",
       "    }\n",
       "\n",
       "    .dataframe tbody tr th {\n",
       "        vertical-align: top;\n",
       "    }\n",
       "\n",
       "    .dataframe thead th {\n",
       "        text-align: right;\n",
       "    }\n",
       "</style>\n",
       "<table border=\"1\" class=\"dataframe\">\n",
       "  <thead>\n",
       "    <tr style=\"text-align: right;\">\n",
       "      <th></th>\n",
       "      <th>Model Name</th>\n",
       "      <th>MAE</th>\n",
       "      <th>MAPE</th>\n",
       "      <th>RSME</th>\n",
       "    </tr>\n",
       "  </thead>\n",
       "  <tbody>\n",
       "    <tr>\n",
       "      <th>0</th>\n",
       "      <td>Random Forest Regressor</td>\n",
       "      <td>2.826881</td>\n",
       "      <td>0.174271</td>\n",
       "      <td>3.346404</td>\n",
       "    </tr>\n",
       "  </tbody>\n",
       "</table>\n",
       "</div>"
      ],
      "text/plain": [
       "                Model Name       MAE      MAPE      RSME\n",
       "0  Random Forest Regressor  2.826881  0.174271  3.346404"
      ]
     },
     "execution_count": 53,
     "metadata": {},
     "output_type": "execute_result"
    }
   ],
   "source": [
    "# Model\n",
    "rf = RandomForestRegressor(n_estimators = 100, n_jobs=-1, random_state=42).fit (x_train, y_train)\n",
    "\n",
    "# Prediction\n",
    "yhat_rf = rf.predict(x_val)\n",
    "\n",
    "# Performance\n",
    "rf_result = ml_error ('Random Forest Regressor', y_val, yhat_rf)\n",
    "rf_result"
   ]
  },
  {
   "cell_type": "code",
   "execution_count": 54,
   "metadata": {},
   "outputs": [
    {
     "data": {
      "text/html": [
       "<div>\n",
       "<style scoped>\n",
       "    .dataframe tbody tr th:only-of-type {\n",
       "        vertical-align: middle;\n",
       "    }\n",
       "\n",
       "    .dataframe tbody tr th {\n",
       "        vertical-align: top;\n",
       "    }\n",
       "\n",
       "    .dataframe thead th {\n",
       "        text-align: right;\n",
       "    }\n",
       "</style>\n",
       "<table border=\"1\" class=\"dataframe\">\n",
       "  <thead>\n",
       "    <tr style=\"text-align: right;\">\n",
       "      <th></th>\n",
       "      <th>Model Name</th>\n",
       "      <th>MAE CV</th>\n",
       "      <th>MAPE CV</th>\n",
       "      <th>RSME CV</th>\n",
       "    </tr>\n",
       "  </thead>\n",
       "  <tbody>\n",
       "    <tr>\n",
       "      <th>0</th>\n",
       "      <td>Random Forest Regressor</td>\n",
       "      <td>2.059 +/- 0.173</td>\n",
       "      <td>0.174 +/- 0.037</td>\n",
       "      <td>2.503 +/- 0.159</td>\n",
       "    </tr>\n",
       "  </tbody>\n",
       "</table>\n",
       "</div>"
      ],
      "text/plain": [
       "                Model Name           MAE CV          MAPE CV          RSME CV\n",
       "0  Random Forest Regressor  2.059 +/- 0.173  0.174 +/- 0.037  2.503 +/- 0.159"
      ]
     },
     "execution_count": 54,
     "metadata": {},
     "output_type": "execute_result"
    }
   ],
   "source": [
    "# Random Forest Regressor Cross Validation:\n",
    "rf_result_cv = cross_validation (x_training, 3, 'Random Forest Regressor', rf)\n",
    "rf_result_cv"
   ]
  },
  {
   "cell_type": "markdown",
   "metadata": {},
   "source": [
    "## 7.4 XGBoost Regressor "
   ]
  },
  {
   "cell_type": "code",
   "execution_count": 55,
   "metadata": {},
   "outputs": [
    {
     "data": {
      "text/html": [
       "<div>\n",
       "<style scoped>\n",
       "    .dataframe tbody tr th:only-of-type {\n",
       "        vertical-align: middle;\n",
       "    }\n",
       "\n",
       "    .dataframe tbody tr th {\n",
       "        vertical-align: top;\n",
       "    }\n",
       "\n",
       "    .dataframe thead th {\n",
       "        text-align: right;\n",
       "    }\n",
       "</style>\n",
       "<table border=\"1\" class=\"dataframe\">\n",
       "  <thead>\n",
       "    <tr style=\"text-align: right;\">\n",
       "      <th></th>\n",
       "      <th>Model Name</th>\n",
       "      <th>MAE</th>\n",
       "      <th>MAPE</th>\n",
       "      <th>RSME</th>\n",
       "    </tr>\n",
       "  </thead>\n",
       "  <tbody>\n",
       "    <tr>\n",
       "      <th>0</th>\n",
       "      <td>XGBoost Regressor</td>\n",
       "      <td>2.291854</td>\n",
       "      <td>0.140949</td>\n",
       "      <td>2.834529</td>\n",
       "    </tr>\n",
       "  </tbody>\n",
       "</table>\n",
       "</div>"
      ],
      "text/plain": [
       "          Model Name       MAE      MAPE      RSME\n",
       "0  XGBoost Regressor  2.291854  0.140949  2.834529"
      ]
     },
     "execution_count": 55,
     "metadata": {},
     "output_type": "execute_result"
    }
   ],
   "source": [
    "# Model\n",
    "xgb = xgb.XGBRegressor().fit (x_train, y_train)\n",
    "\n",
    "# Prediction\n",
    "yhat_xgb = xgb.predict(x_val)\n",
    "\n",
    "# Performance\n",
    "xgb_result = ml_error ('XGBoost Regressor', y_val, yhat_xgb )\n",
    "xgb_result"
   ]
  },
  {
   "cell_type": "code",
   "execution_count": 56,
   "metadata": {},
   "outputs": [
    {
     "data": {
      "text/html": [
       "<div>\n",
       "<style scoped>\n",
       "    .dataframe tbody tr th:only-of-type {\n",
       "        vertical-align: middle;\n",
       "    }\n",
       "\n",
       "    .dataframe tbody tr th {\n",
       "        vertical-align: top;\n",
       "    }\n",
       "\n",
       "    .dataframe thead th {\n",
       "        text-align: right;\n",
       "    }\n",
       "</style>\n",
       "<table border=\"1\" class=\"dataframe\">\n",
       "  <thead>\n",
       "    <tr style=\"text-align: right;\">\n",
       "      <th></th>\n",
       "      <th>Model Name</th>\n",
       "      <th>MAE CV</th>\n",
       "      <th>MAPE CV</th>\n",
       "      <th>RSME CV</th>\n",
       "    </tr>\n",
       "  </thead>\n",
       "  <tbody>\n",
       "    <tr>\n",
       "      <th>0</th>\n",
       "      <td>XGBoost Regressor</td>\n",
       "      <td>1.91 +/- 0.075</td>\n",
       "      <td>0.162 +/- 0.032</td>\n",
       "      <td>2.34 +/- 0.216</td>\n",
       "    </tr>\n",
       "  </tbody>\n",
       "</table>\n",
       "</div>"
      ],
      "text/plain": [
       "          Model Name          MAE CV          MAPE CV         RSME CV\n",
       "0  XGBoost Regressor  1.91 +/- 0.075  0.162 +/- 0.032  2.34 +/- 0.216"
      ]
     },
     "execution_count": 56,
     "metadata": {},
     "output_type": "execute_result"
    }
   ],
   "source": [
    "# LRR Cross Validation:\n",
    "xgb_result_cv = cross_validation (x_training, 3, 'XGBoost Regressor', xgb)\n",
    "xgb_result_cv"
   ]
  },
  {
   "cell_type": "markdown",
   "metadata": {},
   "source": [
    "## 7.5 Compare Model's Performance"
   ]
  },
  {
   "cell_type": "code",
   "execution_count": 57,
   "metadata": {},
   "outputs": [
    {
     "data": {
      "text/html": [
       "<div>\n",
       "<style scoped>\n",
       "    .dataframe tbody tr th:only-of-type {\n",
       "        vertical-align: middle;\n",
       "    }\n",
       "\n",
       "    .dataframe tbody tr th {\n",
       "        vertical-align: top;\n",
       "    }\n",
       "\n",
       "    .dataframe thead th {\n",
       "        text-align: right;\n",
       "    }\n",
       "</style>\n",
       "<table border=\"1\" class=\"dataframe\">\n",
       "  <thead>\n",
       "    <tr style=\"text-align: right;\">\n",
       "      <th></th>\n",
       "      <th>Model Name</th>\n",
       "      <th>MAE CV</th>\n",
       "      <th>MAPE CV</th>\n",
       "      <th>RSME CV</th>\n",
       "    </tr>\n",
       "  </thead>\n",
       "  <tbody>\n",
       "    <tr>\n",
       "      <th>0</th>\n",
       "      <td>Linear Regression</td>\n",
       "      <td>1.22 +/- 0.057</td>\n",
       "      <td>0.111 +/- 0.021</td>\n",
       "      <td>1.482 +/- 0.051</td>\n",
       "    </tr>\n",
       "    <tr>\n",
       "      <th>0</th>\n",
       "      <td>Lasso</td>\n",
       "      <td>1.345 +/- 0.169</td>\n",
       "      <td>0.125 +/- 0.041</td>\n",
       "      <td>1.605 +/- 0.23</td>\n",
       "    </tr>\n",
       "    <tr>\n",
       "      <th>0</th>\n",
       "      <td>Random Forest Regressor</td>\n",
       "      <td>2.059 +/- 0.173</td>\n",
       "      <td>0.174 +/- 0.037</td>\n",
       "      <td>2.503 +/- 0.159</td>\n",
       "    </tr>\n",
       "    <tr>\n",
       "      <th>0</th>\n",
       "      <td>XGBoost Regressor</td>\n",
       "      <td>1.91 +/- 0.075</td>\n",
       "      <td>0.162 +/- 0.032</td>\n",
       "      <td>2.34 +/- 0.216</td>\n",
       "    </tr>\n",
       "  </tbody>\n",
       "</table>\n",
       "</div>"
      ],
      "text/plain": [
       "                Model Name           MAE CV          MAPE CV          RSME CV\n",
       "0        Linear Regression   1.22 +/- 0.057  0.111 +/- 0.021  1.482 +/- 0.051\n",
       "0                    Lasso  1.345 +/- 0.169  0.125 +/- 0.041   1.605 +/- 0.23\n",
       "0  Random Forest Regressor  2.059 +/- 0.173  0.174 +/- 0.037  2.503 +/- 0.159\n",
       "0        XGBoost Regressor   1.91 +/- 0.075  0.162 +/- 0.032   2.34 +/- 0.216"
      ]
     },
     "execution_count": 57,
     "metadata": {},
     "output_type": "execute_result"
    }
   ],
   "source": [
    "modelling_result_cv = pd.concat ([lr_result_cv, lrr_result_cv, rf_result_cv, xgb_result_cv])\n",
    "modelling_result_cv"
   ]
  },
  {
   "cell_type": "code",
   "execution_count": 58,
   "metadata": {},
   "outputs": [],
   "source": [
    "df8 = X_val\n",
    "df8['predictions'] = yhat_lrr\n",
    "\n",
    "df8['error']       = df8['sea_temperature'] - df8['predictions']\n",
    "df8['error_rate']  = df8['predictions'] / df8['sea_temperature']"
   ]
  },
  {
   "cell_type": "code",
   "execution_count": null,
   "metadata": {},
   "outputs": [],
   "source": []
  }
 ],
 "metadata": {
  "kernelspec": {
   "display_name": "Python 3.9.0 64-bit ('IrishSea')",
   "language": "python",
   "name": "python3"
  },
  "language_info": {
   "codemirror_mode": {
    "name": "ipython",
    "version": 3
   },
   "file_extension": ".py",
   "mimetype": "text/x-python",
   "name": "python",
   "nbconvert_exporter": "python",
   "pygments_lexer": "ipython3",
   "version": "3.9.0"
  },
  "orig_nbformat": 4,
  "vscode": {
   "interpreter": {
    "hash": "3b17e4c1510c0899ccdbce77d4255aea4def5a3607e67d87f06d5b24e99616ed"
   }
  }
 },
 "nbformat": 4,
 "nbformat_minor": 2
}
