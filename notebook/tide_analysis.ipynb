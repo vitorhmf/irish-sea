{
 "cells": [
  {
   "cell_type": "markdown",
   "metadata": {},
   "source": [
    "# 1. Imports"
   ]
  },
  {
   "cell_type": "markdown",
   "metadata": {},
   "source": [
    "## 1.1 Libs"
   ]
  },
  {
   "cell_type": "code",
   "execution_count": 2,
   "metadata": {},
   "outputs": [],
   "source": [
    "import sqlite3\n",
    "import inflection\n",
    "\n",
    "import pandas           as pd\n",
    "import numpy            as np\n",
    "import seaborn          as sns\n",
    "\n",
    "from datetime           import datetime\n",
    "from sqlalchemy         import create_engine\n",
    "\n",
    "from matplotlib             import pyplot                   as plt\n"
   ]
  },
  {
   "cell_type": "markdown",
   "metadata": {},
   "source": [
    "## 1.2 Loading Data"
   ]
  },
  {
   "cell_type": "code",
   "execution_count": 3,
   "metadata": {},
   "outputs": [],
   "source": [
    "# Database Conection\n",
    "host = 'irish-sea-db.cyllx5pgzqdx.us-east-1.rds.amazonaws.com'\n",
    "port = '5432'\n",
    "database = 'postgres'\n",
    "user = 'postgres'\n",
    "pwd = 'dadosfera'\n",
    "\n",
    "endpoint_aws = f'postgresql://{user}:{pwd}@{host}/{database}'\n",
    "\n",
    "\n",
    "engine = create_engine(endpoint_aws)\n",
    "connection = engine.connect()\n",
    "\n",
    "# Consulting Database\n",
    "query = \"\"\" \n",
    "    SELECT * FROM tide\n",
    "\"\"\"\n",
    "\n",
    "df1 = pd.read_sql_query(query, engine)\n",
    "\n",
    "connection.close()"
   ]
  },
  {
   "cell_type": "markdown",
   "metadata": {},
   "source": [
    "## 1.3 Helper Function"
   ]
  },
  {
   "cell_type": "code",
   "execution_count": 24,
   "metadata": {},
   "outputs": [],
   "source": [
    "def numerical_metrics(numerical_attributes):\n",
    "    #ct = central tendency\n",
    "    ct_mean = pd.DataFrame(numerical_attributes.apply(np.mean)).T\n",
    "    ct_median = pd.DataFrame(numerical_attributes.apply(np.median)).T\n",
    "\n",
    "    #d = dispersion\n",
    "    d_std = pd.DataFrame(numerical_attributes.apply(np.std)).T\n",
    "    d_min = pd.DataFrame(numerical_attributes.apply(min)).T\n",
    "    d_max = pd.DataFrame(numerical_attributes.apply(max)).T\n",
    "    d_range = pd.DataFrame(numerical_attributes.apply(lambda x: x.max() - x.min())).T\n",
    "    d_skew = pd.DataFrame(numerical_attributes.apply(lambda x: x.skew())).T\n",
    "    d_kurtosis = pd.DataFrame(numerical_attributes.apply(lambda x: x.kurtosis())).T\n",
    "\n",
    "    concat = pd.concat([d_min,d_max,d_range,ct_mean,ct_median,d_std,d_skew,d_kurtosis]).T.reset_index()\n",
    "    concat.columns=['Attributes','Min','Max','Range','Mean','Median','STD','Skew','Kurtosis']\n",
    "\n",
    "    return concat"
   ]
  },
  {
   "cell_type": "markdown",
   "metadata": {},
   "source": [
    "# 2. Data Understanding"
   ]
  },
  {
   "cell_type": "markdown",
   "metadata": {},
   "source": [
    "## 2.1 Overview"
   ]
  },
  {
   "cell_type": "markdown",
   "metadata": {},
   "source": [
    "### 2.1.1 Basic Data Structure"
   ]
  },
  {
   "cell_type": "code",
   "execution_count": 4,
   "metadata": {},
   "outputs": [],
   "source": [
    "df2 = df1.copy()"
   ]
  },
  {
   "cell_type": "code",
   "execution_count": 5,
   "metadata": {},
   "outputs": [
    {
     "data": {
      "text/html": [
       "<div>\n",
       "<style scoped>\n",
       "    .dataframe tbody tr th:only-of-type {\n",
       "        vertical-align: middle;\n",
       "    }\n",
       "\n",
       "    .dataframe tbody tr th {\n",
       "        vertical-align: top;\n",
       "    }\n",
       "\n",
       "    .dataframe thead th {\n",
       "        text-align: right;\n",
       "    }\n",
       "</style>\n",
       "<table border=\"1\" class=\"dataframe\">\n",
       "  <thead>\n",
       "    <tr style=\"text-align: right;\">\n",
       "      <th></th>\n",
       "      <th>time</th>\n",
       "      <th>station_id</th>\n",
       "      <th>latitude</th>\n",
       "      <th>longitude</th>\n",
       "      <th>Water_Level_LAT</th>\n",
       "      <th>Water_Level_OD_Malin</th>\n",
       "      <th>QC_Flag</th>\n",
       "    </tr>\n",
       "  </thead>\n",
       "  <tbody>\n",
       "    <tr>\n",
       "      <th>0</th>\n",
       "      <td>UTC</td>\n",
       "      <td>None</td>\n",
       "      <td>degrees_north</td>\n",
       "      <td>degrees_east</td>\n",
       "      <td>metres</td>\n",
       "      <td>metres</td>\n",
       "      <td>NaN</td>\n",
       "    </tr>\n",
       "    <tr>\n",
       "      <th>1</th>\n",
       "      <td>2021-09-01T00:00:00Z</td>\n",
       "      <td>Aranmore Island - Leabgarrow</td>\n",
       "      <td>54.9905</td>\n",
       "      <td>-8.4955</td>\n",
       "      <td>2.492</td>\n",
       "      <td>0.289</td>\n",
       "      <td>1.0</td>\n",
       "    </tr>\n",
       "    <tr>\n",
       "      <th>2</th>\n",
       "      <td>2021-09-01T00:05:00Z</td>\n",
       "      <td>Aranmore Island - Leabgarrow</td>\n",
       "      <td>54.9905</td>\n",
       "      <td>-8.4955</td>\n",
       "      <td>2.532</td>\n",
       "      <td>0.329</td>\n",
       "      <td>1.0</td>\n",
       "    </tr>\n",
       "    <tr>\n",
       "      <th>3</th>\n",
       "      <td>2021-09-01T00:10:00Z</td>\n",
       "      <td>Aranmore Island - Leabgarrow</td>\n",
       "      <td>54.9905</td>\n",
       "      <td>-8.4955</td>\n",
       "      <td>2.532</td>\n",
       "      <td>0.329</td>\n",
       "      <td>1.0</td>\n",
       "    </tr>\n",
       "    <tr>\n",
       "      <th>4</th>\n",
       "      <td>2021-09-01T00:15:00Z</td>\n",
       "      <td>Aranmore Island - Leabgarrow</td>\n",
       "      <td>54.9905</td>\n",
       "      <td>-8.4955</td>\n",
       "      <td>2.529</td>\n",
       "      <td>0.326</td>\n",
       "      <td>1.0</td>\n",
       "    </tr>\n",
       "  </tbody>\n",
       "</table>\n",
       "</div>"
      ],
      "text/plain": [
       "                   time                    station_id       latitude  \\\n",
       "0                   UTC                          None  degrees_north   \n",
       "1  2021-09-01T00:00:00Z  Aranmore Island - Leabgarrow        54.9905   \n",
       "2  2021-09-01T00:05:00Z  Aranmore Island - Leabgarrow        54.9905   \n",
       "3  2021-09-01T00:10:00Z  Aranmore Island - Leabgarrow        54.9905   \n",
       "4  2021-09-01T00:15:00Z  Aranmore Island - Leabgarrow        54.9905   \n",
       "\n",
       "      longitude Water_Level_LAT Water_Level_OD_Malin  QC_Flag  \n",
       "0  degrees_east          metres               metres      NaN  \n",
       "1       -8.4955           2.492                0.289      1.0  \n",
       "2       -8.4955           2.532                0.329      1.0  \n",
       "3       -8.4955           2.532                0.329      1.0  \n",
       "4       -8.4955           2.529                0.326      1.0  "
      ]
     },
     "execution_count": 5,
     "metadata": {},
     "output_type": "execute_result"
    }
   ],
   "source": [
    "df2.head()"
   ]
  },
  {
   "cell_type": "code",
   "execution_count": 6,
   "metadata": {},
   "outputs": [
    {
     "name": "stdout",
     "output_type": "stream",
     "text": [
      "Number of Rows:1736639\n",
      "Number of Columns:7\n"
     ]
    }
   ],
   "source": [
    "print(f'Number of Rows:{df2.shape[0]}')\n",
    "print(f'Number of Columns:{df2.shape[1]}')"
   ]
  },
  {
   "cell_type": "code",
   "execution_count": 28,
   "metadata": {},
   "outputs": [
    {
     "data": {
      "text/plain": [
       "time                     object\n",
       "station_id               object\n",
       "latitude                 object\n",
       "longitude                object\n",
       "Water_Level_LAT          object\n",
       "Water_Level_OD_Malin     object\n",
       "QC_Flag                 float64\n",
       "dtype: object"
      ]
     },
     "execution_count": 28,
     "metadata": {},
     "output_type": "execute_result"
    }
   ],
   "source": [
    "df2.dtypes"
   ]
  },
  {
   "cell_type": "markdown",
   "metadata": {},
   "source": [
    "### 2.1.2 Features Description"
   ]
  },
  {
   "cell_type": "markdown",
   "metadata": {},
   "source": [
    "| Feature                    | Definition\n",
    "|----------------------------|---------------------------------------------------------------|\n",
    "| time                       | Datetime when the row was registred                           |                               \n",
    "| station_id                 | Station Name                                                  |       \n",
    "| longitude                  | Geolocation                                                   |                                                                   \n",
    "| latitude                   | Geolocation                                                   |  \n",
    "| water_level_LAT            | Water level measured by LAT (lowest astronomical tide)        |                                               \n",
    "| water_level_OD_Malin       | Water level measured by OD Malin                              |   \n",
    "| qc_flag                    | Quality Control Flag                                          |    \n",
    "\n",
    "* [Reference: OD Malin](https://en.wikipedia.org/wiki/Ordnance_datum)\n",
    "* [Reference: LAT](https://en.wikipedia.org/wiki/Chart_datum)\n"
   ]
  },
  {
   "cell_type": "markdown",
   "metadata": {},
   "source": [
    "## 2.2 Rename Columns"
   ]
  },
  {
   "cell_type": "code",
   "execution_count": 29,
   "metadata": {},
   "outputs": [
    {
     "data": {
      "text/plain": [
       "Index(['time', 'station_id', 'latitude', 'longitude', 'Water_Level_LAT',\n",
       "       'Water_Level_OD_Malin', 'QC_Flag'],\n",
       "      dtype='object')"
      ]
     },
     "execution_count": 29,
     "metadata": {},
     "output_type": "execute_result"
    }
   ],
   "source": [
    "df2.columns"
   ]
  },
  {
   "cell_type": "code",
   "execution_count": 30,
   "metadata": {},
   "outputs": [
    {
     "data": {
      "text/html": [
       "<div>\n",
       "<style scoped>\n",
       "    .dataframe tbody tr th:only-of-type {\n",
       "        vertical-align: middle;\n",
       "    }\n",
       "\n",
       "    .dataframe tbody tr th {\n",
       "        vertical-align: top;\n",
       "    }\n",
       "\n",
       "    .dataframe thead th {\n",
       "        text-align: right;\n",
       "    }\n",
       "</style>\n",
       "<table border=\"1\" class=\"dataframe\">\n",
       "  <thead>\n",
       "    <tr style=\"text-align: right;\">\n",
       "      <th></th>\n",
       "      <th>time</th>\n",
       "      <th>station_id</th>\n",
       "      <th>latitude</th>\n",
       "      <th>longitude</th>\n",
       "      <th>water_level_lat</th>\n",
       "      <th>water_level_od_malin</th>\n",
       "      <th>qc_flag</th>\n",
       "    </tr>\n",
       "  </thead>\n",
       "  <tbody>\n",
       "    <tr>\n",
       "      <th>0</th>\n",
       "      <td>UTC</td>\n",
       "      <td>None</td>\n",
       "      <td>degrees_north</td>\n",
       "      <td>degrees_east</td>\n",
       "      <td>metres</td>\n",
       "      <td>metres</td>\n",
       "      <td>NaN</td>\n",
       "    </tr>\n",
       "    <tr>\n",
       "      <th>1</th>\n",
       "      <td>2021-09-01T00:00:00Z</td>\n",
       "      <td>Aranmore Island - Leabgarrow</td>\n",
       "      <td>54.9905</td>\n",
       "      <td>-8.4955</td>\n",
       "      <td>2.492</td>\n",
       "      <td>0.289</td>\n",
       "      <td>1.0</td>\n",
       "    </tr>\n",
       "    <tr>\n",
       "      <th>2</th>\n",
       "      <td>2021-09-01T00:05:00Z</td>\n",
       "      <td>Aranmore Island - Leabgarrow</td>\n",
       "      <td>54.9905</td>\n",
       "      <td>-8.4955</td>\n",
       "      <td>2.532</td>\n",
       "      <td>0.329</td>\n",
       "      <td>1.0</td>\n",
       "    </tr>\n",
       "    <tr>\n",
       "      <th>3</th>\n",
       "      <td>2021-09-01T00:10:00Z</td>\n",
       "      <td>Aranmore Island - Leabgarrow</td>\n",
       "      <td>54.9905</td>\n",
       "      <td>-8.4955</td>\n",
       "      <td>2.532</td>\n",
       "      <td>0.329</td>\n",
       "      <td>1.0</td>\n",
       "    </tr>\n",
       "    <tr>\n",
       "      <th>4</th>\n",
       "      <td>2021-09-01T00:15:00Z</td>\n",
       "      <td>Aranmore Island - Leabgarrow</td>\n",
       "      <td>54.9905</td>\n",
       "      <td>-8.4955</td>\n",
       "      <td>2.529</td>\n",
       "      <td>0.326</td>\n",
       "      <td>1.0</td>\n",
       "    </tr>\n",
       "  </tbody>\n",
       "</table>\n",
       "</div>"
      ],
      "text/plain": [
       "                   time                    station_id       latitude  \\\n",
       "0                   UTC                          None  degrees_north   \n",
       "1  2021-09-01T00:00:00Z  Aranmore Island - Leabgarrow        54.9905   \n",
       "2  2021-09-01T00:05:00Z  Aranmore Island - Leabgarrow        54.9905   \n",
       "3  2021-09-01T00:10:00Z  Aranmore Island - Leabgarrow        54.9905   \n",
       "4  2021-09-01T00:15:00Z  Aranmore Island - Leabgarrow        54.9905   \n",
       "\n",
       "      longitude water_level_lat water_level_od_malin  qc_flag  \n",
       "0  degrees_east          metres               metres      NaN  \n",
       "1       -8.4955           2.492                0.289      1.0  \n",
       "2       -8.4955           2.532                0.329      1.0  \n",
       "3       -8.4955           2.532                0.329      1.0  \n",
       "4       -8.4955           2.529                0.326      1.0  "
      ]
     },
     "execution_count": 30,
     "metadata": {},
     "output_type": "execute_result"
    }
   ],
   "source": [
    "cols_old = ['time', 'station_id', 'latitude', 'longitude', 'Water_Level_LAT',\n",
    "       'Water_Level_OD_Malin', 'QC_Flag']\n",
    "\n",
    "snakecase = lambda x: inflection.underscore(x)\n",
    "\n",
    "cols_new = list( map(snakecase, cols_old))\n",
    "\n",
    "df2.columns = cols_new\n",
    "\n",
    "df2.head()"
   ]
  },
  {
   "cell_type": "markdown",
   "metadata": {},
   "source": [
    "## 2.3 Check and Fillout NA"
   ]
  },
  {
   "cell_type": "code",
   "execution_count": 31,
   "metadata": {},
   "outputs": [
    {
     "data": {
      "text/plain": [
       "time                         0\n",
       "station_id                  20\n",
       "latitude                     0\n",
       "longitude                    0\n",
       "water_level_lat         240463\n",
       "water_level_od_malin         0\n",
       "qc_flag                     20\n",
       "dtype: int64"
      ]
     },
     "execution_count": 31,
     "metadata": {},
     "output_type": "execute_result"
    }
   ],
   "source": [
    "df2.isna().sum()"
   ]
  },
  {
   "cell_type": "code",
   "execution_count": 32,
   "metadata": {},
   "outputs": [],
   "source": [
    "# As we have two ways to measure the water level, the water_level_lat column, which has many missing values, will be disregarded.\n",
    "df2 = df2.drop(columns = ['water_level_lat'], axis=1)"
   ]
  },
  {
   "cell_type": "code",
   "execution_count": 33,
   "metadata": {},
   "outputs": [],
   "source": [
    "df2 = df2.dropna()"
   ]
  },
  {
   "cell_type": "code",
   "execution_count": 34,
   "metadata": {},
   "outputs": [
    {
     "data": {
      "text/plain": [
       "time                    0\n",
       "station_id              0\n",
       "latitude                0\n",
       "longitude               0\n",
       "water_level_od_malin    0\n",
       "qc_flag                 0\n",
       "dtype: int64"
      ]
     },
     "execution_count": 34,
     "metadata": {},
     "output_type": "execute_result"
    }
   ],
   "source": [
    "df2.isna().sum()"
   ]
  },
  {
   "cell_type": "markdown",
   "metadata": {},
   "source": [
    "## 2.4 Change Types"
   ]
  },
  {
   "cell_type": "code",
   "execution_count": 35,
   "metadata": {},
   "outputs": [
    {
     "data": {
      "text/plain": [
       "time                     object\n",
       "station_id               object\n",
       "latitude                 object\n",
       "longitude                object\n",
       "water_level_od_malin     object\n",
       "qc_flag                 float64\n",
       "dtype: object"
      ]
     },
     "execution_count": 35,
     "metadata": {},
     "output_type": "execute_result"
    }
   ],
   "source": [
    "df2.dtypes"
   ]
  },
  {
   "cell_type": "code",
   "execution_count": 36,
   "metadata": {},
   "outputs": [],
   "source": [
    "# Time\n",
    "df2['time'] = pd.to_datetime(df2['time']).dt.tz_localize(None)\n",
    "\n",
    "# Latitude\n",
    "df2['latitude'] = df2['latitude'].astype(float)\n",
    "\n",
    "# Longitude\n",
    "df2['longitude'] = df2['longitude'].astype(float)\n",
    "\n",
    "# water_level_od_malin\n",
    "df2['water_level_od_malin'] = df2['water_level_od_malin'].astype(float)"
   ]
  },
  {
   "cell_type": "code",
   "execution_count": 37,
   "metadata": {},
   "outputs": [
    {
     "data": {
      "text/plain": [
       "time                    datetime64[ns]\n",
       "station_id                      object\n",
       "latitude                       float64\n",
       "longitude                      float64\n",
       "water_level_od_malin           float64\n",
       "qc_flag                        float64\n",
       "dtype: object"
      ]
     },
     "execution_count": 37,
     "metadata": {},
     "output_type": "execute_result"
    }
   ],
   "source": [
    "df2.dtypes"
   ]
  },
  {
   "cell_type": "code",
   "execution_count": 38,
   "metadata": {},
   "outputs": [
    {
     "data": {
      "text/html": [
       "<div>\n",
       "<style scoped>\n",
       "    .dataframe tbody tr th:only-of-type {\n",
       "        vertical-align: middle;\n",
       "    }\n",
       "\n",
       "    .dataframe tbody tr th {\n",
       "        vertical-align: top;\n",
       "    }\n",
       "\n",
       "    .dataframe thead th {\n",
       "        text-align: right;\n",
       "    }\n",
       "</style>\n",
       "<table border=\"1\" class=\"dataframe\">\n",
       "  <thead>\n",
       "    <tr style=\"text-align: right;\">\n",
       "      <th></th>\n",
       "      <th>time</th>\n",
       "      <th>station_id</th>\n",
       "      <th>latitude</th>\n",
       "      <th>longitude</th>\n",
       "      <th>water_level_od_malin</th>\n",
       "      <th>qc_flag</th>\n",
       "    </tr>\n",
       "  </thead>\n",
       "  <tbody>\n",
       "    <tr>\n",
       "      <th>1</th>\n",
       "      <td>2021-09-01 00:00:00</td>\n",
       "      <td>Aranmore Island - Leabgarrow</td>\n",
       "      <td>54.9905</td>\n",
       "      <td>-8.4955</td>\n",
       "      <td>0.289</td>\n",
       "      <td>1.0</td>\n",
       "    </tr>\n",
       "    <tr>\n",
       "      <th>2</th>\n",
       "      <td>2021-09-01 00:05:00</td>\n",
       "      <td>Aranmore Island - Leabgarrow</td>\n",
       "      <td>54.9905</td>\n",
       "      <td>-8.4955</td>\n",
       "      <td>0.329</td>\n",
       "      <td>1.0</td>\n",
       "    </tr>\n",
       "    <tr>\n",
       "      <th>3</th>\n",
       "      <td>2021-09-01 00:10:00</td>\n",
       "      <td>Aranmore Island - Leabgarrow</td>\n",
       "      <td>54.9905</td>\n",
       "      <td>-8.4955</td>\n",
       "      <td>0.329</td>\n",
       "      <td>1.0</td>\n",
       "    </tr>\n",
       "    <tr>\n",
       "      <th>4</th>\n",
       "      <td>2021-09-01 00:15:00</td>\n",
       "      <td>Aranmore Island - Leabgarrow</td>\n",
       "      <td>54.9905</td>\n",
       "      <td>-8.4955</td>\n",
       "      <td>0.326</td>\n",
       "      <td>1.0</td>\n",
       "    </tr>\n",
       "    <tr>\n",
       "      <th>5</th>\n",
       "      <td>2021-09-01 00:20:00</td>\n",
       "      <td>Aranmore Island - Leabgarrow</td>\n",
       "      <td>54.9905</td>\n",
       "      <td>-8.4955</td>\n",
       "      <td>0.324</td>\n",
       "      <td>1.0</td>\n",
       "    </tr>\n",
       "  </tbody>\n",
       "</table>\n",
       "</div>"
      ],
      "text/plain": [
       "                 time                    station_id  latitude  longitude  \\\n",
       "1 2021-09-01 00:00:00  Aranmore Island - Leabgarrow   54.9905    -8.4955   \n",
       "2 2021-09-01 00:05:00  Aranmore Island - Leabgarrow   54.9905    -8.4955   \n",
       "3 2021-09-01 00:10:00  Aranmore Island - Leabgarrow   54.9905    -8.4955   \n",
       "4 2021-09-01 00:15:00  Aranmore Island - Leabgarrow   54.9905    -8.4955   \n",
       "5 2021-09-01 00:20:00  Aranmore Island - Leabgarrow   54.9905    -8.4955   \n",
       "\n",
       "   water_level_od_malin  qc_flag  \n",
       "1                 0.289      1.0  \n",
       "2                 0.329      1.0  \n",
       "3                 0.329      1.0  \n",
       "4                 0.326      1.0  \n",
       "5                 0.324      1.0  "
      ]
     },
     "execution_count": 38,
     "metadata": {},
     "output_type": "execute_result"
    }
   ],
   "source": [
    "df2.head()"
   ]
  },
  {
   "cell_type": "markdown",
   "metadata": {},
   "source": [
    "## 2.5 Basic Analysis"
   ]
  },
  {
   "cell_type": "code",
   "execution_count": 39,
   "metadata": {},
   "outputs": [],
   "source": [
    "num_attributes = df2[['water_level_od_malin']]\n",
    "cat_attributes = df2['station_id']"
   ]
  },
  {
   "cell_type": "code",
   "execution_count": 40,
   "metadata": {},
   "outputs": [
    {
     "data": {
      "text/html": [
       "<div>\n",
       "<style scoped>\n",
       "    .dataframe tbody tr th:only-of-type {\n",
       "        vertical-align: middle;\n",
       "    }\n",
       "\n",
       "    .dataframe tbody tr th {\n",
       "        vertical-align: top;\n",
       "    }\n",
       "\n",
       "    .dataframe thead th {\n",
       "        text-align: right;\n",
       "    }\n",
       "</style>\n",
       "<table border=\"1\" class=\"dataframe\">\n",
       "  <thead>\n",
       "    <tr style=\"text-align: right;\">\n",
       "      <th></th>\n",
       "      <th>Attributes</th>\n",
       "      <th>Min</th>\n",
       "      <th>Max</th>\n",
       "      <th>Range</th>\n",
       "      <th>Mean</th>\n",
       "      <th>Median</th>\n",
       "      <th>STD</th>\n",
       "      <th>Skew</th>\n",
       "      <th>Kurtosis</th>\n",
       "    </tr>\n",
       "  </thead>\n",
       "  <tbody>\n",
       "    <tr>\n",
       "      <th>0</th>\n",
       "      <td>water_level_od_malin</td>\n",
       "      <td>-32.758</td>\n",
       "      <td>13.583</td>\n",
       "      <td>46.341</td>\n",
       "      <td>-0.079085</td>\n",
       "      <td>-0.054</td>\n",
       "      <td>1.064313</td>\n",
       "      <td>-0.417439</td>\n",
       "      <td>9.412163</td>\n",
       "    </tr>\n",
       "  </tbody>\n",
       "</table>\n",
       "</div>"
      ],
      "text/plain": [
       "             Attributes     Min     Max   Range      Mean  Median       STD  \\\n",
       "0  water_level_od_malin -32.758  13.583  46.341 -0.079085  -0.054  1.064313   \n",
       "\n",
       "       Skew  Kurtosis  \n",
       "0 -0.417439  9.412163  "
      ]
     },
     "execution_count": 40,
     "metadata": {},
     "output_type": "execute_result"
    }
   ],
   "source": [
    "# Numerical Attributes\n",
    "numerical_metrics(num_attributes)"
   ]
  },
  {
   "cell_type": "markdown",
   "metadata": {},
   "source": [
    "* Note: the maximum sea level value above 13 meters and the median close to zero, indicates that we have an outlier in this attribute."
   ]
  },
  {
   "cell_type": "code",
   "execution_count": 41,
   "metadata": {},
   "outputs": [
    {
     "data": {
      "text/html": [
       "<div>\n",
       "<style scoped>\n",
       "    .dataframe tbody tr th:only-of-type {\n",
       "        vertical-align: middle;\n",
       "    }\n",
       "\n",
       "    .dataframe tbody tr th {\n",
       "        vertical-align: top;\n",
       "    }\n",
       "\n",
       "    .dataframe thead th {\n",
       "        text-align: right;\n",
       "    }\n",
       "</style>\n",
       "<table border=\"1\" class=\"dataframe\">\n",
       "  <thead>\n",
       "    <tr style=\"text-align: right;\">\n",
       "      <th></th>\n",
       "      <th>station_id</th>\n",
       "      <th>water_level_od_malin</th>\n",
       "    </tr>\n",
       "  </thead>\n",
       "  <tbody>\n",
       "    <tr>\n",
       "      <th>0</th>\n",
       "      <td>Aranmore Island - Leabgarrow</td>\n",
       "      <td>96492</td>\n",
       "    </tr>\n",
       "    <tr>\n",
       "      <th>1</th>\n",
       "      <td>Ballycotton Harbour</td>\n",
       "      <td>49764</td>\n",
       "    </tr>\n",
       "    <tr>\n",
       "      <th>2</th>\n",
       "      <td>Ballyglass Harbour</td>\n",
       "      <td>104152</td>\n",
       "    </tr>\n",
       "    <tr>\n",
       "      <th>3</th>\n",
       "      <td>Castletownbere Port</td>\n",
       "      <td>85060</td>\n",
       "    </tr>\n",
       "    <tr>\n",
       "      <th>4</th>\n",
       "      <td>Dingle Harbour</td>\n",
       "      <td>98699</td>\n",
       "    </tr>\n",
       "    <tr>\n",
       "      <th>5</th>\n",
       "      <td>Dublin Port</td>\n",
       "      <td>104875</td>\n",
       "    </tr>\n",
       "    <tr>\n",
       "      <th>6</th>\n",
       "      <td>Dunmore East Harbour</td>\n",
       "      <td>91784</td>\n",
       "    </tr>\n",
       "    <tr>\n",
       "      <th>7</th>\n",
       "      <td>Galway Port</td>\n",
       "      <td>104874</td>\n",
       "    </tr>\n",
       "    <tr>\n",
       "      <th>8</th>\n",
       "      <td>Howth Water Level 1</td>\n",
       "      <td>101568</td>\n",
       "    </tr>\n",
       "    <tr>\n",
       "      <th>9</th>\n",
       "      <td>Inishmore</td>\n",
       "      <td>95906</td>\n",
       "    </tr>\n",
       "    <tr>\n",
       "      <th>10</th>\n",
       "      <td>Killybegs Port</td>\n",
       "      <td>81798</td>\n",
       "    </tr>\n",
       "    <tr>\n",
       "      <th>11</th>\n",
       "      <td>Kilrush Lough</td>\n",
       "      <td>95927</td>\n",
       "    </tr>\n",
       "    <tr>\n",
       "      <th>12</th>\n",
       "      <td>Kinvara - Unreferenced</td>\n",
       "      <td>34942</td>\n",
       "    </tr>\n",
       "    <tr>\n",
       "      <th>13</th>\n",
       "      <td>Malin Head - Portmore Pier</td>\n",
       "      <td>49629</td>\n",
       "    </tr>\n",
       "    <tr>\n",
       "      <th>14</th>\n",
       "      <td>Roonagh Pier</td>\n",
       "      <td>104126</td>\n",
       "    </tr>\n",
       "    <tr>\n",
       "      <th>15</th>\n",
       "      <td>Rosslare</td>\n",
       "      <td>83011</td>\n",
       "    </tr>\n",
       "    <tr>\n",
       "      <th>16</th>\n",
       "      <td>Skerries Harbour</td>\n",
       "      <td>82631</td>\n",
       "    </tr>\n",
       "    <tr>\n",
       "      <th>17</th>\n",
       "      <td>Sligo</td>\n",
       "      <td>62556</td>\n",
       "    </tr>\n",
       "    <tr>\n",
       "      <th>18</th>\n",
       "      <td>Union Hall Harbor</td>\n",
       "      <td>103953</td>\n",
       "    </tr>\n",
       "    <tr>\n",
       "      <th>19</th>\n",
       "      <td>Wexford Harbour</td>\n",
       "      <td>104872</td>\n",
       "    </tr>\n",
       "  </tbody>\n",
       "</table>\n",
       "</div>"
      ],
      "text/plain": [
       "                      station_id  water_level_od_malin\n",
       "0   Aranmore Island - Leabgarrow                 96492\n",
       "1            Ballycotton Harbour                 49764\n",
       "2             Ballyglass Harbour                104152\n",
       "3            Castletownbere Port                 85060\n",
       "4                 Dingle Harbour                 98699\n",
       "5                    Dublin Port                104875\n",
       "6           Dunmore East Harbour                 91784\n",
       "7                    Galway Port                104874\n",
       "8            Howth Water Level 1                101568\n",
       "9                      Inishmore                 95906\n",
       "10                Killybegs Port                 81798\n",
       "11                 Kilrush Lough                 95927\n",
       "12        Kinvara - Unreferenced                 34942\n",
       "13    Malin Head - Portmore Pier                 49629\n",
       "14                  Roonagh Pier                104126\n",
       "15                      Rosslare                 83011\n",
       "16              Skerries Harbour                 82631\n",
       "17                         Sligo                 62556\n",
       "18             Union Hall Harbor                103953\n",
       "19               Wexford Harbour                104872"
      ]
     },
     "execution_count": 41,
     "metadata": {},
     "output_type": "execute_result"
    }
   ],
   "source": [
    "# Categorial attributes\n",
    "df2[['station_id', 'water_level_od_malin']].groupby('station_id').count().reset_index()"
   ]
  },
  {
   "cell_type": "code",
   "execution_count": 42,
   "metadata": {},
   "outputs": [
    {
     "name": "stdout",
     "output_type": "stream",
     "text": [
      "Start: 2021-09-01 00:00:00\n",
      "End: 2022-08-31 23:55:00\n"
     ]
    }
   ],
   "source": [
    "# Period of time\n",
    "print('Start: {}'.format(df2['time'].min()))\n",
    "print('End: {}'.format(df2['time'].max()))"
   ]
  },
  {
   "cell_type": "markdown",
   "metadata": {},
   "source": [
    "# 3. Feature Engineering"
   ]
  },
  {
   "cell_type": "markdown",
   "metadata": {},
   "source": [
    "## 3.1 Time-derived features"
   ]
  },
  {
   "cell_type": "code",
   "execution_count": 43,
   "metadata": {},
   "outputs": [],
   "source": [
    "df3 = df2.copy()"
   ]
  },
  {
   "cell_type": "code",
   "execution_count": 44,
   "metadata": {},
   "outputs": [],
   "source": [
    "# Date:\n",
    "df3['date'] = df3['time'].dt.date\n",
    "\n",
    "# Year:\n",
    "df3['year'] = df3['time'].dt.year\n",
    "\n",
    "# Month:\n",
    "df3['month'] = df3['time'].dt.month\n",
    "\n",
    "# Year_Month\n",
    "df3['year_month'] = df3['time'].dt.strftime('%Y-%m')\n",
    "\n",
    "# Day of Month\n",
    "df3['day_of_month'] = df3['time'].dt.day\n",
    "\n",
    "# Day of Week\n",
    "df3['day_of_week'] = df3['time'].dt.day_of_week\n",
    "\n",
    "# Hour\n",
    "df3['hour'] = df3['time'].dt.hour"
   ]
  },
  {
   "cell_type": "code",
   "execution_count": 45,
   "metadata": {},
   "outputs": [
    {
     "data": {
      "text/html": [
       "<div>\n",
       "<style scoped>\n",
       "    .dataframe tbody tr th:only-of-type {\n",
       "        vertical-align: middle;\n",
       "    }\n",
       "\n",
       "    .dataframe tbody tr th {\n",
       "        vertical-align: top;\n",
       "    }\n",
       "\n",
       "    .dataframe thead th {\n",
       "        text-align: right;\n",
       "    }\n",
       "</style>\n",
       "<table border=\"1\" class=\"dataframe\">\n",
       "  <thead>\n",
       "    <tr style=\"text-align: right;\">\n",
       "      <th></th>\n",
       "      <th>time</th>\n",
       "      <th>station_id</th>\n",
       "      <th>latitude</th>\n",
       "      <th>longitude</th>\n",
       "      <th>water_level_od_malin</th>\n",
       "      <th>qc_flag</th>\n",
       "      <th>date</th>\n",
       "      <th>year</th>\n",
       "      <th>month</th>\n",
       "      <th>year_month</th>\n",
       "      <th>day_of_month</th>\n",
       "      <th>day_of_week</th>\n",
       "      <th>hour</th>\n",
       "    </tr>\n",
       "  </thead>\n",
       "  <tbody>\n",
       "    <tr>\n",
       "      <th>1</th>\n",
       "      <td>2021-09-01 00:00:00</td>\n",
       "      <td>Aranmore Island - Leabgarrow</td>\n",
       "      <td>54.9905</td>\n",
       "      <td>-8.4955</td>\n",
       "      <td>0.289</td>\n",
       "      <td>1.0</td>\n",
       "      <td>2021-09-01</td>\n",
       "      <td>2021</td>\n",
       "      <td>9</td>\n",
       "      <td>2021-09</td>\n",
       "      <td>1</td>\n",
       "      <td>2</td>\n",
       "      <td>0</td>\n",
       "    </tr>\n",
       "    <tr>\n",
       "      <th>2</th>\n",
       "      <td>2021-09-01 00:05:00</td>\n",
       "      <td>Aranmore Island - Leabgarrow</td>\n",
       "      <td>54.9905</td>\n",
       "      <td>-8.4955</td>\n",
       "      <td>0.329</td>\n",
       "      <td>1.0</td>\n",
       "      <td>2021-09-01</td>\n",
       "      <td>2021</td>\n",
       "      <td>9</td>\n",
       "      <td>2021-09</td>\n",
       "      <td>1</td>\n",
       "      <td>2</td>\n",
       "      <td>0</td>\n",
       "    </tr>\n",
       "    <tr>\n",
       "      <th>3</th>\n",
       "      <td>2021-09-01 00:10:00</td>\n",
       "      <td>Aranmore Island - Leabgarrow</td>\n",
       "      <td>54.9905</td>\n",
       "      <td>-8.4955</td>\n",
       "      <td>0.329</td>\n",
       "      <td>1.0</td>\n",
       "      <td>2021-09-01</td>\n",
       "      <td>2021</td>\n",
       "      <td>9</td>\n",
       "      <td>2021-09</td>\n",
       "      <td>1</td>\n",
       "      <td>2</td>\n",
       "      <td>0</td>\n",
       "    </tr>\n",
       "    <tr>\n",
       "      <th>4</th>\n",
       "      <td>2021-09-01 00:15:00</td>\n",
       "      <td>Aranmore Island - Leabgarrow</td>\n",
       "      <td>54.9905</td>\n",
       "      <td>-8.4955</td>\n",
       "      <td>0.326</td>\n",
       "      <td>1.0</td>\n",
       "      <td>2021-09-01</td>\n",
       "      <td>2021</td>\n",
       "      <td>9</td>\n",
       "      <td>2021-09</td>\n",
       "      <td>1</td>\n",
       "      <td>2</td>\n",
       "      <td>0</td>\n",
       "    </tr>\n",
       "    <tr>\n",
       "      <th>5</th>\n",
       "      <td>2021-09-01 00:20:00</td>\n",
       "      <td>Aranmore Island - Leabgarrow</td>\n",
       "      <td>54.9905</td>\n",
       "      <td>-8.4955</td>\n",
       "      <td>0.324</td>\n",
       "      <td>1.0</td>\n",
       "      <td>2021-09-01</td>\n",
       "      <td>2021</td>\n",
       "      <td>9</td>\n",
       "      <td>2021-09</td>\n",
       "      <td>1</td>\n",
       "      <td>2</td>\n",
       "      <td>0</td>\n",
       "    </tr>\n",
       "  </tbody>\n",
       "</table>\n",
       "</div>"
      ],
      "text/plain": [
       "                 time                    station_id  latitude  longitude  \\\n",
       "1 2021-09-01 00:00:00  Aranmore Island - Leabgarrow   54.9905    -8.4955   \n",
       "2 2021-09-01 00:05:00  Aranmore Island - Leabgarrow   54.9905    -8.4955   \n",
       "3 2021-09-01 00:10:00  Aranmore Island - Leabgarrow   54.9905    -8.4955   \n",
       "4 2021-09-01 00:15:00  Aranmore Island - Leabgarrow   54.9905    -8.4955   \n",
       "5 2021-09-01 00:20:00  Aranmore Island - Leabgarrow   54.9905    -8.4955   \n",
       "\n",
       "   water_level_od_malin  qc_flag        date  year  month year_month  \\\n",
       "1                 0.289      1.0  2021-09-01  2021      9    2021-09   \n",
       "2                 0.329      1.0  2021-09-01  2021      9    2021-09   \n",
       "3                 0.329      1.0  2021-09-01  2021      9    2021-09   \n",
       "4                 0.326      1.0  2021-09-01  2021      9    2021-09   \n",
       "5                 0.324      1.0  2021-09-01  2021      9    2021-09   \n",
       "\n",
       "   day_of_month  day_of_week  hour  \n",
       "1             1            2     0  \n",
       "2             1            2     0  \n",
       "3             1            2     0  \n",
       "4             1            2     0  \n",
       "5             1            2     0  "
      ]
     },
     "execution_count": 45,
     "metadata": {},
     "output_type": "execute_result"
    }
   ],
   "source": [
    "df3.head()"
   ]
  },
  {
   "cell_type": "markdown",
   "metadata": {},
   "source": [
    "# 4. Data Filtering"
   ]
  },
  {
   "cell_type": "markdown",
   "metadata": {},
   "source": [
    "## 4.1 Water Level"
   ]
  },
  {
   "cell_type": "code",
   "execution_count": 46,
   "metadata": {},
   "outputs": [],
   "source": [
    "df4 = df3.copy()"
   ]
  },
  {
   "cell_type": "code",
   "execution_count": 63,
   "metadata": {},
   "outputs": [
    {
     "data": {
      "image/png": "[encoded data removed]",
      "text/plain": [
       "<Figure size 1200x400 with 2 Axes>"
      ]
     },
     "metadata": {},
     "output_type": "display_data"
    }
   ],
   "source": [
    "sns.set(rc={'figure.figsize':(12, 4)})\n",
    "\n",
    "# To start the investigation about the outlier seen in the basic analysis section, let's see the max sea level per month:\n",
    "plt.subplot(1, 2, 1)\n",
    "max_level_month = df4[['year_month', 'water_level_od_malin']].groupby('year_month').max().reset_index()\n",
    "sns.barplot(x='year_month', y='water_level_od_malin', data=max_level_month)\n",
    "plt.xticks (rotation=90);\n",
    "\n",
    "# And here the max sea level per buoy:\n",
    "plt.subplot(1, 2, 2)\n",
    "max_level_buoy = df4[['station_id', 'water_level_od_malin']].groupby('station_id').max().reset_index()\n",
    "sns.barplot(x='station_id', y='water_level_od_malin', data=max_level_buoy)\n",
    "plt.xticks (rotation=90);"
   ]
  },
  {
   "cell_type": "markdown",
   "metadata": {},
   "source": [
    "Note: from this analysis we conclude that the discrepant value is concentrated in the month of August 2022 at Portmore Pier. To solve this discrepancy, we will filter August from Portmore Pier."
   ]
  },
  {
   "cell_type": "code",
   "execution_count": 64,
   "metadata": {},
   "outputs": [
    {
     "data": {
      "image/png": "[encoded data removed]",
      "text/plain": [
       "<Figure size 1200x400 with 2 Axes>"
      ]
     },
     "metadata": {},
     "output_type": "display_data"
    }
   ],
   "source": [
    "sns.set(rc={'figure.figsize':(12, 4)})\n",
    "\n",
    "# Portmore Pier\tAverage Level per Month\n",
    "plt.subplot(1, 2, 1)\n",
    "aux1 = df4[(df4['station_id']=='Malin Head - Portmore Pier')]\n",
    "sns.barplot(x='year_month', y='water_level_od_malin', data=aux1)\n",
    "plt.xticks (rotation=90);\n",
    "\n",
    "# Portmore Pier\tAverage Level August\n",
    "plt.subplot(1, 2, 2)\n",
    "aux1 = df4[(df4['station_id']=='Malin Head - Portmore Pier') & (df4['month']==8)]\n",
    "sns.scatterplot(x='time', y='water_level_od_malin', data=aux1)\n",
    "plt.xticks (rotation=90);"
   ]
  },
  {
   "cell_type": "code",
   "execution_count": 67,
   "metadata": {},
   "outputs": [],
   "source": [
    "# Filtering Dataset\n",
    "df4 = df4[~((df4['station_id']=='Malin Head - Portmore Pier') & (df4['month']==8))]"
   ]
  },
  {
   "cell_type": "code",
   "execution_count": null,
   "metadata": {},
   "outputs": [],
   "source": [
    "# Save as .csv\n",
    "# df4.to_csv('../data/sea_level.csv', index=False)"
   ]
  },
  {
   "cell_type": "markdown",
   "metadata": {},
   "source": [
    "# 5. Exploratory Data Analysis"
   ]
  },
  {
   "cell_type": "markdown",
   "metadata": {},
   "source": [
    "## 5.1 Univariate Analysis"
   ]
  },
  {
   "cell_type": "markdown",
   "metadata": {},
   "source": [
    "### 5.1.1 Water Level"
   ]
  },
  {
   "cell_type": "code",
   "execution_count": 68,
   "metadata": {},
   "outputs": [],
   "source": [
    "df5 = df4.copy()"
   ]
  },
  {
   "cell_type": "code",
   "execution_count": 81,
   "metadata": {},
   "outputs": [
    {
     "data": {
      "image/png": "[encoded data removed]",
      "text/plain": [
       "<Figure size 1200x400 with 2 Axes>"
      ]
     },
     "metadata": {},
     "output_type": "display_data"
    }
   ],
   "source": [
    "# Max Water Level per Buoy\n",
    "plt.subplot(1, 2, 1)\n",
    "max_level_buoy = df5[['station_id', 'water_level_od_malin']][df5['water_level_od_malin']>3].groupby('station_id').max().reset_index()\n",
    "plot = sns.barplot(x='station_id', y='water_level_od_malin', data=max_level_buoy)\n",
    "plt.xticks (rotation=90);\n",
    "for i in plot.patches:\n",
    "    height = i.get_height()\n",
    "    total = len(max_level_buoy['water_level_od_malin'])\n",
    "    plot.text(i.get_x() + i.get_width()/2, \n",
    "              height,\n",
    "              '{:1.2f}'.format(height),\n",
    "              ha='center')\n",
    "\n",
    "# Max Water Lever per Month\n",
    "plt.subplot(1, 2, 2)\n",
    "max_level_month = df5[['year_month', 'water_level_od_malin']].groupby('year_month').max().reset_index()\n",
    "sns.barplot(x='year_month', y='water_level_od_malin', data=max_level_month)\n",
    "plt.xticks (rotation=90);"
   ]
  },
  {
   "cell_type": "code",
   "execution_count": 83,
   "metadata": {},
   "outputs": [
    {
     "data": {
      "text/html": [
       "<div>\n",
       "<style scoped>\n",
       "    .dataframe tbody tr th:only-of-type {\n",
       "        vertical-align: middle;\n",
       "    }\n",
       "\n",
       "    .dataframe tbody tr th {\n",
       "        vertical-align: top;\n",
       "    }\n",
       "\n",
       "    .dataframe thead th {\n",
       "        text-align: right;\n",
       "    }\n",
       "</style>\n",
       "<table border=\"1\" class=\"dataframe\">\n",
       "  <thead>\n",
       "    <tr style=\"text-align: right;\">\n",
       "      <th></th>\n",
       "      <th>station_id</th>\n",
       "      <th>latitude</th>\n",
       "      <th>longitude</th>\n",
       "      <th>water_level_od_malin</th>\n",
       "    </tr>\n",
       "  </thead>\n",
       "  <tbody>\n",
       "    <tr>\n",
       "      <th>0</th>\n",
       "      <td>Galway Port</td>\n",
       "      <td>53.26900</td>\n",
       "      <td>-9.04800</td>\n",
       "      <td>3.176</td>\n",
       "    </tr>\n",
       "    <tr>\n",
       "      <th>1</th>\n",
       "      <td>Kilrush Lough</td>\n",
       "      <td>52.63191</td>\n",
       "      <td>-9.50208</td>\n",
       "      <td>3.005</td>\n",
       "    </tr>\n",
       "    <tr>\n",
       "      <th>2</th>\n",
       "      <td>Roonagh Pier</td>\n",
       "      <td>53.76235</td>\n",
       "      <td>-9.90442</td>\n",
       "      <td>3.162</td>\n",
       "    </tr>\n",
       "  </tbody>\n",
       "</table>\n",
       "</div>"
      ],
      "text/plain": [
       "      station_id  latitude  longitude  water_level_od_malin\n",
       "0    Galway Port  53.26900   -9.04800                 3.176\n",
       "1  Kilrush Lough  52.63191   -9.50208                 3.005\n",
       "2   Roonagh Pier  53.76235   -9.90442                 3.162"
      ]
     },
     "execution_count": 83,
     "metadata": {},
     "output_type": "execute_result"
    }
   ],
   "source": [
    "max_level_buoy = df5[['station_id', 'latitude', 'longitude', 'water_level_od_malin']][df5['water_level_od_malin']>3].groupby('station_id').max().reset_index()\n",
    "\n",
    "max_level_buoy"
   ]
  }
 ],
 "metadata": {
  "kernelspec": {
   "display_name": "Python 3.9.0 64-bit ('IrishSea')",
   "language": "python",
   "name": "python3"
  },
  "language_info": {
   "codemirror_mode": {
    "name": "ipython",
    "version": 3
   },
   "file_extension": ".py",
   "mimetype": "text/x-python",
   "name": "python",
   "nbconvert_exporter": "python",
   "pygments_lexer": "ipython3",
   "version": "3.9.0"
  },
  "orig_nbformat": 4,
  "vscode": {
   "interpreter": {
    "hash": "3b17e4c1510c0899ccdbce77d4255aea4def5a3607e67d87f06d5b24e99616ed"
   }
  }
 },
 "nbformat": 4,
 "nbformat_minor": 2
}
