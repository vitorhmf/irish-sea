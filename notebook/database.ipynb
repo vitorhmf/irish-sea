{
 "cells": [
  {
   "cell_type": "markdown",
   "metadata": {},
   "source": [
    "# 1. Libraries"
   ]
  },
  {
   "cell_type": "code",
   "execution_count": 1,
   "metadata": {},
   "outputs": [],
   "source": [
    "import s3fs\n",
    "import sqlite3\n",
    "import psycopg2\n",
    "import pandas       as pd\n",
    "from sqlalchemy     import create_engine"
   ]
  },
  {
   "cell_type": "markdown",
   "metadata": {},
   "source": [
    "# 2. Loading Data"
   ]
  },
  {
   "cell_type": "markdown",
   "metadata": {},
   "source": [
    "## 2.1 Wave Dataset"
   ]
  },
  {
   "cell_type": "code",
   "execution_count": 52,
   "metadata": {},
   "outputs": [],
   "source": [
    "wave_path_s3 = 's3://irish-sea-case/wave_dataset/'"
   ]
  },
  {
   "cell_type": "code",
   "execution_count": 53,
   "metadata": {},
   "outputs": [
    {
     "name": "stderr",
     "output_type": "stream",
     "text": [
      "/tmp/ipykernel_55384/1029186833.py:3: DtypeWarning: Columns (0,1,4,5,6,7,8,9,10,11) have mixed types. Specify dtype option on import or set low_memory=False.\n",
      "  station3 = pd.read_csv(wave_path_s3 + 'bantry_bay.csv')\n",
      "/tmp/ipykernel_55384/1029186833.py:6: DtypeWarning: Columns (0,1,4,5,6,7,8,9,10,11) have mixed types. Specify dtype option on import or set low_memory=False.\n",
      "  station6 = pd.read_csv(wave_path_s3 + 'smartbay_wave_buoy.csv')\n"
     ]
    }
   ],
   "source": [
    "station1 = pd.read_csv(wave_path_s3 + 'amets_berth_a_wave_buoy.csv')\n",
    "station2 = pd.read_csv(wave_path_s3 + 'amets_berth_b_wave_buoy.csv')\n",
    "station3 = pd.read_csv(wave_path_s3 + 'bantry_bay.csv')\n",
    "station4 = pd.read_csv(wave_path_s3 + 'brandon_bay.csv')\n",
    "station5 = pd.read_csv(wave_path_s3 + 'clew_bay.csv')\n",
    "station6 = pd.read_csv(wave_path_s3 + 'smartbay_wave_buoy.csv')"
   ]
  },
  {
   "cell_type": "code",
   "execution_count": 54,
   "metadata": {},
   "outputs": [],
   "source": [
    "df_wave = pd.concat([station1, station2, station3, station4, station5, station6]).reset_index(drop=True)"
   ]
  },
  {
   "cell_type": "markdown",
   "metadata": {},
   "source": [
    "## 2.2 Tide Dataset"
   ]
  },
  {
   "cell_type": "code",
   "execution_count": 9,
   "metadata": {},
   "outputs": [],
   "source": [
    "tide_path_s3 = 's3://irish-sea-case/tide_dataset/'"
   ]
  },
  {
   "cell_type": "code",
   "execution_count": 10,
   "metadata": {},
   "outputs": [],
   "source": [
    "station01 = pd.read_csv(tide_path_s3 + 'aranmore_island_leabgarrow.csv')\n",
    "station02 = pd.read_csv(tide_path_s3 + 'ballycotton_harbour.csv')\n",
    "station03 = pd.read_csv(tide_path_s3 + 'ballyglass_harbour.csv')\n",
    "station04 = pd.read_csv(tide_path_s3 + 'castletownbere_port.csv')\n",
    "station05 = pd.read_csv(tide_path_s3 + 'dingle_harbour.csv')\n",
    "station06 = pd.read_csv(tide_path_s3 + 'dublin_port.csv')\n",
    "station07 = pd.read_csv(tide_path_s3 + 'dunmore_east_harbour.csv')\n",
    "station08 = pd.read_csv(tide_path_s3 + 'galway_port.csv')\n",
    "station09 = pd.read_csv(tide_path_s3 + 'howth_water_level_1.csv')\n",
    "station10 = pd.read_csv(tide_path_s3 + 'inishmore.csv')\n",
    "station11 = pd.read_csv(tide_path_s3 + 'killybegs_port.csv')\n",
    "station12 = pd.read_csv(tide_path_s3 + 'kilrush_lough.csv')\n",
    "station13 = pd.read_csv(tide_path_s3 + 'kinvara.csv')\n",
    "station14 = pd.read_csv(tide_path_s3 + 'malin_head_portmore_pier.csv')\n",
    "station15 = pd.read_csv(tide_path_s3 + 'roonagh_pier.csv')\n",
    "station16 = pd.read_csv(tide_path_s3 + 'rosslare.csv')\n",
    "station17 = pd.read_csv(tide_path_s3 + 'skerries_harbour.csv')\n",
    "station18 = pd.read_csv(tide_path_s3 + 'sligo.csv')\n",
    "station19 = pd.read_csv(tide_path_s3 + 'union_hall_harbor.csv')\n",
    "station20 = pd.read_csv(tide_path_s3 + 'wexford_harbour.csv')"
   ]
  },
  {
   "cell_type": "code",
   "execution_count": 11,
   "metadata": {},
   "outputs": [],
   "source": [
    "df_tide = pd.concat([station01, station02, station03, station04, station05, station06, station07, station08, station09, station10, station11, station12, station13, station14, station15, station16, station17, station18, station19, station20]).reset_index(drop=True)"
   ]
  },
  {
   "cell_type": "markdown",
   "metadata": {},
   "source": [
    "# 3. Creating Database"
   ]
  },
  {
   "cell_type": "markdown",
   "metadata": {},
   "source": [
    "## 3.1 Wave Table"
   ]
  },
  {
   "cell_type": "code",
   "execution_count": 2,
   "metadata": {},
   "outputs": [],
   "source": [
    "# Database Conection\n",
    "\n",
    "host = 'irish-sea-db.cyllx5pgzqdx.us-east-1.rds.amazonaws.com'\n",
    "port = '5432'\n",
    "database = 'postgres'\n",
    "user = 'postgres'\n",
    "pwd = 'dadosfera'\n",
    "\n",
    "endpoint_aws = f'postgresql://{user}:{pwd}@{host}/{database}'\n",
    "\n",
    "# conn = create_engine(endpoint_aws)\n",
    "\n",
    "engine = create_engine(endpoint_aws)\n",
    "connection = engine.connect()"
   ]
  },
  {
   "cell_type": "code",
   "execution_count": 14,
   "metadata": {},
   "outputs": [
    {
     "data": {
      "text/plain": [
       "longitude                object\n",
       "latitude                 object\n",
       "time                     object\n",
       "station_id               object\n",
       "PeakPeriod               object\n",
       "PeakDirection            object\n",
       "UpcrossPeriod            object\n",
       "SignificantWaveHeight    object\n",
       "Hmax                     object\n",
       "SeaTemperature           object\n",
       "MeanCurSpeed             object\n",
       "MeanCurDirTo             object\n",
       "dtype: object"
      ]
     },
     "execution_count": 14,
     "metadata": {},
     "output_type": "execute_result"
    }
   ],
   "source": [
    "df_wave.dtypes"
   ]
  },
  {
   "cell_type": "code",
   "execution_count": 57,
   "metadata": {},
   "outputs": [],
   "source": [
    "# # Create Wave Table\n",
    "# query_wave = \"\"\" \n",
    "#     CREATE TABLE wave (\n",
    "#         \"longitude\"             VARCHAR(30),\n",
    "#         \"latitude\"              VARCHAR(30),\n",
    "#         \"time\"                  VARCHAR(30),\n",
    "#         \"station_id\"            VARCHAR(30),\n",
    "#         \"PeakPeriod\"            VARCHAR(30),\n",
    "#         \"PeakDirection\"         VARCHAR(30),\n",
    "#         \"UpcrossPeriod\"         VARCHAR(30),\n",
    "#         \"SignificantWaveHeight\" VARCHAR(30),\n",
    "#         \"Hmax\"                  VARCHAR(30),\n",
    "#         \"SeaTemperature\"        VARCHAR(30),\n",
    "#         \"MeanCurSpeed\"          VARCHAR(30),\n",
    "#         \"MeanCurDirTo\"          VARCHAR(30)\n",
    "#     )\n",
    "# \"\"\"\n",
    "\n",
    "# cursor = connection.execute(query_wave)"
   ]
  },
  {
   "cell_type": "markdown",
   "metadata": {},
   "source": [
    "## 3.2 Tide Table"
   ]
  },
  {
   "cell_type": "code",
   "execution_count": 63,
   "metadata": {},
   "outputs": [],
   "source": [
    "# Create Tide Table\n",
    "query_tide = \"\"\" \n",
    "    CREATE TABLE tide (\n",
    "        \"time\"                        VARCHAR(30),\n",
    "        \"station_id\"                  VARCHAR(30),\n",
    "        \"latitude\"                    VARCHAR(30),\n",
    "        \"longitude\"                   VARCHAR(30),\n",
    "        \"Water_Level_LAT\"             VARCHAR(30),\n",
    "        \"Water_Level_OD_Malin\"        VARCHAR(30),\n",
    "        \"QC_Flag\"                     REAL\n",
    "    )\n",
    "\"\"\"\n",
    "\n",
    "cursor = connection.execute(query_tide)\n"
   ]
  },
  {
   "cell_type": "code",
   "execution_count": 62,
   "metadata": {},
   "outputs": [],
   "source": [
    "# Drop Table\n",
    "query_drop = \"\"\" \n",
    "    DROP TABLE tide\n",
    "\"\"\"\n",
    "\n",
    "cursor = connection.execute(query_drop)\n"
   ]
  },
  {
   "cell_type": "markdown",
   "metadata": {},
   "source": [
    "# 4. Insert Data"
   ]
  },
  {
   "cell_type": "code",
   "execution_count": 64,
   "metadata": {},
   "outputs": [
    {
     "data": {
      "text/plain": [
       "639"
      ]
     },
     "execution_count": 64,
     "metadata": {},
     "output_type": "execute_result"
    }
   ],
   "source": [
    "#df_wave.to_sql('wave', con = engine, if_exists='append', index=False)\n",
    "#df_tide.to_sql('tide', con = engine, if_exists='append', index=False)\n"
   ]
  },
  {
   "cell_type": "markdown",
   "metadata": {},
   "source": [
    "# 5. Consulting Database"
   ]
  },
  {
   "cell_type": "code",
   "execution_count": 65,
   "metadata": {},
   "outputs": [
    {
     "data": {
      "text/html": [
       "<div>\n",
       "<style scoped>\n",
       "    .dataframe tbody tr th:only-of-type {\n",
       "        vertical-align: middle;\n",
       "    }\n",
       "\n",
       "    .dataframe tbody tr th {\n",
       "        vertical-align: top;\n",
       "    }\n",
       "\n",
       "    .dataframe thead th {\n",
       "        text-align: right;\n",
       "    }\n",
       "</style>\n",
       "<table border=\"1\" class=\"dataframe\">\n",
       "  <thead>\n",
       "    <tr style=\"text-align: right;\">\n",
       "      <th></th>\n",
       "      <th>time</th>\n",
       "      <th>station_id</th>\n",
       "      <th>latitude</th>\n",
       "      <th>longitude</th>\n",
       "      <th>Water_Level_LAT</th>\n",
       "      <th>Water_Level_OD_Malin</th>\n",
       "      <th>QC_Flag</th>\n",
       "    </tr>\n",
       "  </thead>\n",
       "  <tbody>\n",
       "    <tr>\n",
       "      <th>0</th>\n",
       "      <td>UTC</td>\n",
       "      <td>None</td>\n",
       "      <td>degrees_north</td>\n",
       "      <td>degrees_east</td>\n",
       "      <td>metres</td>\n",
       "      <td>metres</td>\n",
       "      <td>NaN</td>\n",
       "    </tr>\n",
       "    <tr>\n",
       "      <th>1</th>\n",
       "      <td>2021-09-01T00:00:00Z</td>\n",
       "      <td>Aranmore Island - Leabgarrow</td>\n",
       "      <td>54.9905</td>\n",
       "      <td>-8.4955</td>\n",
       "      <td>2.492</td>\n",
       "      <td>0.289</td>\n",
       "      <td>1.0</td>\n",
       "    </tr>\n",
       "    <tr>\n",
       "      <th>2</th>\n",
       "      <td>2021-09-01T00:05:00Z</td>\n",
       "      <td>Aranmore Island - Leabgarrow</td>\n",
       "      <td>54.9905</td>\n",
       "      <td>-8.4955</td>\n",
       "      <td>2.532</td>\n",
       "      <td>0.329</td>\n",
       "      <td>1.0</td>\n",
       "    </tr>\n",
       "    <tr>\n",
       "      <th>3</th>\n",
       "      <td>2021-09-01T00:10:00Z</td>\n",
       "      <td>Aranmore Island - Leabgarrow</td>\n",
       "      <td>54.9905</td>\n",
       "      <td>-8.4955</td>\n",
       "      <td>2.532</td>\n",
       "      <td>0.329</td>\n",
       "      <td>1.0</td>\n",
       "    </tr>\n",
       "    <tr>\n",
       "      <th>4</th>\n",
       "      <td>2021-09-01T00:15:00Z</td>\n",
       "      <td>Aranmore Island - Leabgarrow</td>\n",
       "      <td>54.9905</td>\n",
       "      <td>-8.4955</td>\n",
       "      <td>2.529</td>\n",
       "      <td>0.326</td>\n",
       "      <td>1.0</td>\n",
       "    </tr>\n",
       "  </tbody>\n",
       "</table>\n",
       "</div>"
      ],
      "text/plain": [
       "                   time                    station_id       latitude  \\\n",
       "0                   UTC                          None  degrees_north   \n",
       "1  2021-09-01T00:00:00Z  Aranmore Island - Leabgarrow        54.9905   \n",
       "2  2021-09-01T00:05:00Z  Aranmore Island - Leabgarrow        54.9905   \n",
       "3  2021-09-01T00:10:00Z  Aranmore Island - Leabgarrow        54.9905   \n",
       "4  2021-09-01T00:15:00Z  Aranmore Island - Leabgarrow        54.9905   \n",
       "\n",
       "      longitude Water_Level_LAT Water_Level_OD_Malin  QC_Flag  \n",
       "0  degrees_east          metres               metres      NaN  \n",
       "1       -8.4955           2.492                0.289      1.0  \n",
       "2       -8.4955           2.532                0.329      1.0  \n",
       "3       -8.4955           2.532                0.329      1.0  \n",
       "4       -8.4955           2.529                0.326      1.0  "
      ]
     },
     "execution_count": 65,
     "metadata": {},
     "output_type": "execute_result"
    }
   ],
   "source": [
    "# Consulting Database\n",
    "query = \"\"\" \n",
    "    SELECT * FROM tide\n",
    "\n",
    "\"\"\"\n",
    "\n",
    "df1 = pd.read_sql_query(query, engine)\n",
    "df1.head()\n"
   ]
  },
  {
   "cell_type": "code",
   "execution_count": 66,
   "metadata": {},
   "outputs": [
    {
     "data": {
      "text/plain": [
       "(1736639, 7)"
      ]
     },
     "execution_count": 66,
     "metadata": {},
     "output_type": "execute_result"
    }
   ],
   "source": [
    "df1.shape"
   ]
  },
  {
   "cell_type": "code",
   "execution_count": 51,
   "metadata": {},
   "outputs": [
    {
     "data": {
      "text/plain": [
       "Index(['longitude', 'latitude', 'time', 'station_id', 'PeakPeriod',\n",
       "       'PeakDirectio', 'UpcrossPeriod', 'SignificantWaveHeight', 'Hmax',\n",
       "       'SeaTemperature', 'MeanCurSpeed', 'MeanCurDirTo'],\n",
       "      dtype='object')"
      ]
     },
     "execution_count": 51,
     "metadata": {},
     "output_type": "execute_result"
    }
   ],
   "source": [
    "df1.columns"
   ]
  },
  {
   "cell_type": "code",
   "execution_count": 39,
   "metadata": {},
   "outputs": [],
   "source": [
    "connection.close()"
   ]
  },
  {
   "cell_type": "code",
   "execution_count": 18,
   "metadata": {},
   "outputs": [
    {
     "data": {
      "text/plain": [
       "Bantry Bay                 97705\n",
       "SmartBay Wave Buoy         70141\n",
       "Brandon Bay                47051\n",
       "AMETS Berth B Wave Buoy    17049\n",
       "AMETS Berth A Wave Buoy    16779\n",
       "Clew Bay                    9666\n",
       "Name: station_id, dtype: int64"
      ]
     },
     "execution_count": 18,
     "metadata": {},
     "output_type": "execute_result"
    }
   ],
   "source": [
    "df_wave['station_id'].value_counts()"
   ]
  }
 ],
 "metadata": {
  "kernelspec": {
   "display_name": "Python 3.9.0 64-bit ('IrishSea')",
   "language": "python",
   "name": "python3"
  },
  "language_info": {
   "codemirror_mode": {
    "name": "ipython",
    "version": 3
   },
   "file_extension": ".py",
   "mimetype": "text/x-python",
   "name": "python",
   "nbconvert_exporter": "python",
   "pygments_lexer": "ipython3",
   "version": "3.9.0"
  },
  "orig_nbformat": 4,
  "vscode": {
   "interpreter": {
    "hash": "3b17e4c1510c0899ccdbce77d4255aea4def5a3607e67d87f06d5b24e99616ed"
   }
  }
 },
 "nbformat": 4,
 "nbformat_minor": 2
}
